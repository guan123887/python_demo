{
 "cells": [
  {
   "cell_type": "markdown",
   "metadata": {},
   "source": [
    "# 1.split和partition使用"
   ]
  },
  {
   "cell_type": "code",
   "execution_count": 1,
   "metadata": {},
   "outputs": [
    {
     "name": "stdout",
     "output_type": "stream",
     "text": [
      "split: piglei\n",
      "partition: piglei\n"
     ]
    }
   ],
   "source": [
    "## split\n",
    "def extract_value(s):\n",
    "  items = s.split(':')\n",
    "  # 因为s不一定会有\":\"，所以需要对结果长度进行判断\n",
    "  if len(items) == 2:\n",
    "    return items[1]\n",
    "  else:\n",
    "    return ''\n",
    "## partition\n",
    "def extract_value1(s):\n",
    "  # 使用 partition则不需要判断，若没有分隔符，因为最后一个成员默认是空字符串''\n",
    "  return s.partition(':')[-1]\n",
    "\n",
    "print(f'split: {extract_value(\"name:piglei\")}')\n",
    "print(f'partition: {extract_value1(\"name:piglei\")}')"
   ]
  },
  {
   "cell_type": "markdown",
   "metadata": {},
   "source": [
    "# 2. translate使用"
   ]
  },
  {
   "cell_type": "code",
   "execution_count": 2,
   "metadata": {},
   "outputs": [
    {
     "data": {
      "text/plain": [
       "'明明是中文，却用了英文标点。'"
      ]
     },
     "execution_count": 2,
     "metadata": {},
     "output_type": "execute_result"
    }
   ],
   "source": [
    "# 相比于reaplce, translate可以实现批量替换多个字符\n",
    "s = '明明是中文,却用了英文标点.'\n",
    "## 简历替换规则\n",
    "table = s.maketrans(',.', '，。')\n",
    "s.translate(table)"
   ]
  },
  {
   "cell_type": "code",
   "execution_count": null,
   "metadata": {},
   "outputs": [],
   "source": []
  }
 ],
 "metadata": {
  "kernelspec": {
   "display_name": "Python 3.7.12 ('base')",
   "language": "python",
   "name": "python3"
  },
  "language_info": {
   "codemirror_mode": {
    "name": "ipython",
    "version": 3
   },
   "file_extension": ".py",
   "mimetype": "text/x-python",
   "name": "python",
   "nbconvert_exporter": "python",
   "pygments_lexer": "ipython3",
   "version": "3.7.12"
  },
  "orig_nbformat": 4,
  "vscode": {
   "interpreter": {
    "hash": "fd16a1c2e981052eaae61151b9525ae9913f1f0d16bca6b7e7be9e0f29d739d2"
   }
  }
 },
 "nbformat": 4,
 "nbformat_minor": 2
}
