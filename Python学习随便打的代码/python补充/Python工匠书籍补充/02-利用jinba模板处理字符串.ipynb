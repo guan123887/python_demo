{
 "cells": [
  {
   "cell_type": "markdown",
   "metadata": {},
   "source": [
    "# 1.不使用jinja打印电影评分表"
   ]
  },
  {
   "cell_type": "code",
   "execution_count": 1,
   "metadata": {},
   "outputs": [
    {
     "name": "stdout",
     "output_type": "stream",
     "text": [
      "Welcom, piglei.\n",
      "\n",
      "* The Shawshank Redemption, Rating: 9.3\n",
      "* The Prestige, Rating: 8.5\n",
      "* Mulan, Rating: [Not Rated]\n"
     ]
    }
   ],
   "source": [
    "def render_movies(username, movies):\n",
    "  \"\"\"\n",
    "  以文本方式展示电影列表信息\n",
    "  \"\"\"\n",
    "  welcome_text = 'Welcome, {}.\\n'.format(username)\n",
    "  text_parts = [welcome_text]\n",
    "  for name, rating in movies:\n",
    "    # 没有提供评分的电影，以[NOT RATED]代替\n",
    "    rating_text = rating if rating else '[Not Rated]'\n",
    "    movie_item = '* {}, Rating: {}'.format(name, rating_text)\n",
    "    text_parts.append(movie_item)\n",
    "  return '\\n'.join(text_parts)\n",
    "\n",
    "movies = [\n",
    "  ('The Shawshank Redemption', '9.3'),\n",
    "  ('The Prestige', '8.5'),\n",
    "  ('Mulan', None)\n",
    "]\n",
    "print(render_movies('piglei', movies))"
   ]
  },
  {
   "cell_type": "markdown",
   "metadata": {},
   "source": [
    "## 2.使用Jinja"
   ]
  },
  {
   "cell_type": "code",
   "execution_count": 30,
   "metadata": {},
   "outputs": [
    {
     "data": {
      "text/plain": [
       "'\\nWelcome, piglei.\\n\\n* The Shawshank Redemption, Rating: 9.3\\n* The Prestige, Rating: 8.5\\n* Mulan, Rating: [Not Rated]'"
      ]
     },
     "execution_count": 30,
     "metadata": {},
     "output_type": "execute_result"
    }
   ],
   "source": [
    "from jinja2 import Template\n",
    "_MOVIES_TMPL = \"\"\"\n",
    "Welcome, {{username}}.\n",
    "{%for name, rating in movies %}\n",
    "* {{ name }}, Rating: {{ rating|default('[Not Rated]', True)}}\n",
    "{%- endfor %}\n",
    "\"\"\"\n",
    "def render_movies_j2(username, movies):\n",
    "  tmpl = Template(_MOVIES_TMPL)\n",
    "  return tmpl.render(username=username, movies=movies)\n",
    "render_movies_j2(username='piglei',movies=movies)"
   ]
  },
  {
   "cell_type": "code",
   "execution_count": null,
   "metadata": {},
   "outputs": [],
   "source": []
  }
 ],
 "metadata": {
  "kernelspec": {
   "display_name": "Python 3.7.12 ('base')",
   "language": "python",
   "name": "python3"
  },
  "language_info": {
   "codemirror_mode": {
    "name": "ipython",
    "version": 3
   },
   "file_extension": ".py",
   "mimetype": "text/x-python",
   "name": "python",
   "nbconvert_exporter": "python",
   "pygments_lexer": "ipython3",
   "version": "3.7.12"
  },
  "orig_nbformat": 4,
  "vscode": {
   "interpreter": {
    "hash": "fd16a1c2e981052eaae61151b9525ae9913f1f0d16bca6b7e7be9e0f29d739d2"
   }
  }
 },
 "nbformat": 4,
 "nbformat_minor": 2
}
