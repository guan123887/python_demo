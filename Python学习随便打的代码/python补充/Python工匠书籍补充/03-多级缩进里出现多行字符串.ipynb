{
 "cells": [
  {
   "cell_type": "code",
   "execution_count": 1,
   "metadata": {},
   "outputs": [],
   "source": [
    "# 比如如下问题，为了避免让字符串不包含当前缩进里的空格，来实现字符串的编写\n",
    "def main(user):\n",
    "  if user.is_actvie:\n",
    "    message = \"\"\"Welcome, today's movie list:\n",
    "- Jaw (1975)\n",
    "- The Shining (1980)\n",
    "- Saw (2004)\"\"\"\n",
    "# 但是上述写法会破坏整段代码的缩进视觉效果"
   ]
  },
  {
   "cell_type": "code",
   "execution_count": null,
   "metadata": {},
   "outputs": [],
   "source": [
    "# 为了解决上述问题 可以利用下面方法\n",
    "from textwrap import dedent\n",
    "\n",
    "def main(user):\n",
    "  if user.is_active:\n",
    "    # dedent方法删除整段字符串左侧的空白缩进，\n",
    "    message = dedent(\"\"\"\\\n",
    "      Welcome, today's movie list:\n",
    "      - Jaw (1975)\n",
    "      - The Shining (1980)\n",
    "      - Saw (2004)\"\"\")"
   ]
  }
 ],
 "metadata": {
  "kernelspec": {
   "display_name": "Python 3.7.12 ('base')",
   "language": "python",
   "name": "python3"
  },
  "language_info": {
   "codemirror_mode": {
    "name": "ipython",
    "version": 3
   },
   "file_extension": ".py",
   "mimetype": "text/x-python",
   "name": "python",
   "nbconvert_exporter": "python",
   "pygments_lexer": "ipython3",
   "version": "3.7.12"
  },
  "orig_nbformat": 4,
  "vscode": {
   "interpreter": {
    "hash": "fd16a1c2e981052eaae61151b9525ae9913f1f0d16bca6b7e7be9e0f29d739d2"
   }
  }
 },
 "nbformat": 4,
 "nbformat_minor": 2
}
