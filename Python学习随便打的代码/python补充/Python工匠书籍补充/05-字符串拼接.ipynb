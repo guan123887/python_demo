{
 "cells": [
  {
   "cell_type": "code",
   "execution_count": 1,
   "metadata": {},
   "outputs": [],
   "source": [
    "# 字符串拼接并不比.join(str_list)拼接慢\n",
    "WORDS = ['Hello', 'string', 'performance', 'test'] * 25\n",
    "def str_cat():\n",
    "  \"\"\"使用字符串拼接\"\"\"\n",
    "  s = ''\n",
    "  for word in WORDS:\n",
    "    s += word\n",
    "  return s\n",
    "\n",
    "def str_join():\n",
    "  \"\"\"使用列表配合join产生字符串\"\"\"\n",
    "  l = []\n",
    "  for word in WORDS:\n",
    "    l.append(word)\n",
    "  return ''.join(l)"
   ]
  },
  {
   "cell_type": "code",
   "execution_count": 2,
   "metadata": {},
   "outputs": [
    {
     "name": "stdout",
     "output_type": "stream",
     "text": [
      "156 ms ± 17.8 ms per loop (mean ± std. dev. of 7 runs, 10 loops each)\n"
     ]
    }
   ],
   "source": [
    "# 使用timeit计算str_cat时间\n",
    "%timeit for i in range(10000):str_cat()"
   ]
  },
  {
   "cell_type": "code",
   "execution_count": 3,
   "metadata": {},
   "outputs": [
    {
     "name": "stdout",
     "output_type": "stream",
     "text": [
      "88.9 ms ± 843 µs per loop (mean ± std. dev. of 7 runs, 10 loops each)\n"
     ]
    }
   ],
   "source": [
    "# 使用timeit计算str_join时间\n",
    "%timeit for i in range(10000):str_join()"
   ]
  },
  {
   "cell_type": "code",
   "execution_count": 4,
   "metadata": {},
   "outputs": [
    {
     "name": "stdout",
     "output_type": "stream",
     "text": [
      "cat_spent: 17.978793599999996\n",
      "join_spent 12.160108999999999\n"
     ]
    }
   ],
   "source": [
    "## 使用python内置库计算\n",
    "import timeit\n",
    "\n",
    "# 默认执行 100 万次\n",
    "cat_spent = timeit.timeit(setup='from __main__ import str_cat', stmt='str_cat()')\n",
    "print(\"cat_spent:\", cat_spent)\n",
    "\n",
    "join_spent = timeit.timeit(setup='from __main__ import str_join', stmt='str_join()')\n",
    "print(\"join_spent\", join_spent)"
   ]
  },
  {
   "cell_type": "code",
   "execution_count": null,
   "metadata": {},
   "outputs": [],
   "source": []
  }
 ],
 "metadata": {
  "kernelspec": {
   "display_name": "Python 3.7.12 ('base')",
   "language": "python",
   "name": "python3"
  },
  "language_info": {
   "codemirror_mode": {
    "name": "ipython",
    "version": 3
   },
   "file_extension": ".py",
   "mimetype": "text/x-python",
   "name": "python",
   "nbconvert_exporter": "python",
   "pygments_lexer": "ipython3",
   "version": "3.7.12"
  },
  "orig_nbformat": 4,
  "vscode": {
   "interpreter": {
    "hash": "fd16a1c2e981052eaae61151b9525ae9913f1f0d16bca6b7e7be9e0f29d739d2"
   }
  }
 },
 "nbformat": 4,
 "nbformat_minor": 2
}
