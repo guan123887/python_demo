{
 "cells": [
  {
   "cell_type": "code",
   "execution_count": 1,
   "metadata": {},
   "outputs": [],
   "source": [
    "# 虽然Python是一门解释型语言，但在解释器真正运行Python代码前，其实仍然有一个类似\"编译\"的加速过程：将代码编译为二进制的字节码，\n",
    "# 我们没法直接读取字节码，使用dis模块.\n",
    "\n",
    "def add(x, y):\n",
    "  return x + y\n"
   ]
  },
  {
   "cell_type": "code",
   "execution_count": 2,
   "metadata": {},
   "outputs": [
    {
     "name": "stdout",
     "output_type": "stream",
     "text": [
      "  5           0 LOAD_FAST                0 (x)\n",
      "              2 LOAD_FAST                1 (y)\n",
      "              4 BINARY_ADD\n",
      "              6 RETURN_VALUE\n"
     ]
    }
   ],
   "source": [
    "## 导入dis模块，使用它打印add()函数的字节码，也就是解释器如何理解add()函数\n",
    "import dis\n",
    "dis.dis(add)\n",
    "\"\"\"\n",
    "在上面的输出中，add()函数的反汇编结果主要展示了下面几种操作。\n",
    "（1）两次LOAD_FAST：分别把局部变量x和y的值放入栈顶。\n",
    "（2）BINARY_ADD：从栈顶取出两个值（也就是x和y的值），执行加法操作，将结果放回栈顶。\n",
    "（3） RETURN_VALUE：返回栈顶的结果。\n",
    "\"\"\""
   ]
  },
  {
   "cell_type": "code",
   "execution_count": 3,
   "metadata": {},
   "outputs": [
    {
     "name": "stdout",
     "output_type": "stream",
     "text": [
      "  2           0 LOAD_FAST                0 (delta_seconds)\n",
      "              2 LOAD_CONST               1 (950400)\n",
      "              4 COMPARE_OP               0 (<)\n",
      "              6 POP_JUMP_IF_FALSE       12\n",
      "\n",
      "  3           8 LOAD_CONST               0 (None)\n",
      "             10 RETURN_VALUE\n",
      "        >>   12 LOAD_CONST               0 (None)\n",
      "             14 RETURN_VALUE\n"
     ]
    }
   ],
   "source": [
    "def do_something(delta_seconds):\n",
    "    if delta_seconds < 11 * 24 * 3600:\n",
    "        return\n",
    "\n",
    "import dis\n",
    "dis.dis(do_something)\n",
    "# 注意到2 LOAD_CONST  1 (950400)那一行了吗？这表示Python解释器在将源码编译成字节码时，\n",
    "# 会主动计算11 * 24 * 3600表达式的结果，并用950400替换它。\n",
    "# 也就是说，无论你调用do_something多少次，其中的算式11 * 24 * 3600都只会在编译期被执行1次。"
   ]
  },
  {
   "cell_type": "code",
   "execution_count": null,
   "metadata": {},
   "outputs": [],
   "source": []
  }
 ],
 "metadata": {
  "kernelspec": {
   "display_name": "Python 3.7.12 ('base')",
   "language": "python",
   "name": "python3"
  },
  "language_info": {
   "codemirror_mode": {
    "name": "ipython",
    "version": 3
   },
   "file_extension": ".py",
   "mimetype": "text/x-python",
   "name": "python",
   "nbconvert_exporter": "python",
   "pygments_lexer": "ipython3",
   "version": "3.7.12"
  },
  "orig_nbformat": 4,
  "vscode": {
   "interpreter": {
    "hash": "fd16a1c2e981052eaae61151b9525ae9913f1f0d16bca6b7e7be9e0f29d739d2"
   }
  }
 },
 "nbformat": 4,
 "nbformat_minor": 2
}
