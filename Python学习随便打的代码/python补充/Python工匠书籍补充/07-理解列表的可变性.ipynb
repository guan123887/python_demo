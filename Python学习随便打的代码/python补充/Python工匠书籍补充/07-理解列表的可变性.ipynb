{
 "cells": [
  {
   "cell_type": "code",
   "execution_count": null,
   "metadata": {},
   "outputs": [],
   "source": [
    "# 可变：列表、字典、集合\n",
    "# 不可变：整数、浮点数，字符串，字节串（给计算机看的，比如encoding='utf-8'后的数据），元组"
   ]
  },
  {
   "cell_type": "code",
   "execution_count": 1,
   "metadata": {},
   "outputs": [
    {
     "name": "stdout",
     "output_type": "stream",
     "text": [
      "Outside [before]: orig_obj=\"foo\"\n",
      "In add [before]: in_func_obj=\"foo\"\n",
      "In add [after]: in_func_obj=\"foo suffix\"\n",
      "Outside [after]: orig_obj=\"foo\"\n"
     ]
    }
   ],
   "source": [
    "# 示例一 为字符串追加内容\n",
    "def add_str(in_func_obj):\n",
    "    print(f'In add [before]: in_func_obj=\"{in_func_obj}\"')\n",
    "    in_func_obj += ' suffix'\n",
    "    print(f'In add [after]: in_func_obj=\"{in_func_obj}\"')\n",
    "\n",
    "\n",
    "orig_obj = 'foo'\n",
    "print(f'Outside [before]: orig_obj=\"{orig_obj}\"')\n",
    "add_str(orig_obj)\n",
    "print(f'Outside [after]: orig_obj=\"{orig_obj}\"')\n",
    "\n",
    "\"\"\"\n",
    "在这段代码里，原始字符串对象orig_obj被作为参数传给了add_str()函数的in_func_obj变量。\n",
    "随后函数内部通过+=操作修改了in_func_obj的值，\n",
    "为其增加了后缀字符串。但重点是：函数外的orig_obj变量所指向的值没有受到任何影响\n",
    "\"\"\""
   ]
  },
  {
   "cell_type": "code",
   "execution_count": 2,
   "metadata": {},
   "outputs": [
    {
     "name": "stdout",
     "output_type": "stream",
     "text": [
      "Outside [before]: orig_obj=\"['foo', 'bar']\"\n",
      "In add [before]: in_func_obj=\"['foo', 'bar']\"\n",
      "In add [after]: in_func_obj=\"['foo', 'bar', 'baz']\"\n",
      "Outside [after]: orig_obj=\"['foo', 'bar', 'baz']\"\n"
     ]
    }
   ],
   "source": [
    "# 示例二 为列表追加内容\n",
    "## 我们保留一模一样的代码逻辑，但是把orig_obj换成了列表对象：\n",
    "def add_list(in_func_obj):\n",
    "    print(f'In add [before]: in_func_obj=\"{in_func_obj}\"')\n",
    "    in_func_obj += ['baz']\n",
    "    print(f'In add [after]: in_func_obj=\"{in_func_obj}\"')\n",
    "\n",
    "\n",
    "orig_obj = ['foo', 'bar']\n",
    "print(f'Outside [before]: orig_obj=\"{orig_obj}\"')\n",
    "add_list(orig_obj)\n",
    "print(f'Outside [after]: orig_obj=\"{orig_obj}\"')\n",
    "\n",
    "## 当操作对象变成列表后，函数内的+=操作居然可以修改原始变量的值！"
   ]
  },
  {
   "cell_type": "code",
   "execution_count": 3,
   "metadata": {},
   "outputs": [
    {
     "data": {
      "text/plain": [
       "\"\\n解释上述示例一、二\\n如果要用其他编程语言的术语来解释这两个例子，上面的函数调用似乎分别可以对应两种函数参数传递机制。\\n(1)值传递(pass-by-value):调用函数时,传过去的是变量所指向对象(值)的拷贝,因此对函数内变量的任何修改,\\n都不会影响原始变量——对应orig_obj是字符串时的行为。\\n(2)引用传递(pass-by-reference):调用函数时,传过去的是变量自身的引用(内存地址)因此,\\n修改函数内的变量会直接影响原始变量——对应orig_obj是列表时的行为。\\n看了上面的解释,你也许会发出灵魂拷问:为什么Python的函数调用要同时使用两套不同的机制,把事情搞得这么复杂呢?\\n答案其实没有你想得那么“复杂”——Python在进行函数调用传参时,采用的既不是值传递,也不是引用传递，\\n而是传递了“变量所指对象的引用”(pass-by-object-reference)。\\n\\n换个角度说,当你调用func(orig_obj)后，Python只是新建了一个函数内部变量in_func_obj,\\n然后让它和外部变量orig_obj指向同一个对象,相当于做了一次变量赋值：\\ndef func(in_func_obj): ...\\n\\norig_obj = ...\\nfunc(orig_obj)\\n一次函数调用基本等于执行了in_func_obj = orig_obj.所以,当我们在函数内部执行in_func_obj += ...等修改操作时,\\n是否会影响外部变量,只取决于in_func_obj所指向的对象本身是否可变。如图3-2所示,浅色标签代表变量.\\n白色方块代表值。在左侧的图里,in_func_obj和orig_obj都指向同一个字符串值'foo'。\\n在对字符串进行+=操作时，因为字符串是不可变类型，所以程序会生成一个新对象（值）：'foo suffix',\\n并让in_func_obj变量指向这个新对象:旧值(原始变量orig_obj指向的对象)则不受任何影响,如图3-2右侧所示。\\n但如果对象是可变的(比如列表),+=操作就会直接原地修改in_func_obj变量所指向的值,而它同时也是原始变量orig_obj所指向的内容;\\n待修改完成后,两个变量所指向的值(同一个)肯定就都受到了影响。如图3-3所示,右边的列表在操作后直接多了一个成员：'bar'。\\n\\n由此可见,Python的函数调用不能简单归类为“值传递”或者“引用传递”,一切行为取决于对象的可变性。\\n\""
      ]
     },
     "execution_count": 3,
     "metadata": {},
     "output_type": "execute_result"
    }
   ],
   "source": [
    "\"\"\"\n",
    "解释上述示例一、二\n",
    "如果要用其他编程语言的术语来解释这两个例子，上面的函数调用似乎分别可以对应两种函数参数传递机制。\n",
    "(1)值传递(pass-by-value):调用函数时,传过去的是变量所指向对象(值)的拷贝,因此对函数内变量的任何修改,\n",
    "都不会影响原始变量——对应orig_obj是字符串时的行为。\n",
    "(2)引用传递(pass-by-reference):调用函数时,传过去的是变量自身的引用(内存地址)因此,\n",
    "修改函数内的变量会直接影响原始变量——对应orig_obj是列表时的行为。\n",
    "看了上面的解释,你也许会发出灵魂拷问:为什么Python的函数调用要同时使用两套不同的机制,把事情搞得这么复杂呢?\n",
    "答案其实没有你想得那么“复杂”——Python在进行函数调用传参时,采用的既不是值传递,也不是引用传递，\n",
    "而是传递了“变量所指对象的引用”(pass-by-object-reference)。\n",
    "\n",
    "换个角度说,当你调用func(orig_obj)后，Python只是新建了一个函数内部变量in_func_obj,\n",
    "然后让它和外部变量orig_obj指向同一个对象,相当于做了一次变量赋值：\n",
    "def func(in_func_obj): ...\n",
    "\n",
    "orig_obj = ...\n",
    "func(orig_obj)\n",
    "一次函数调用基本等于执行了in_func_obj = orig_obj.所以,当我们在函数内部执行in_func_obj += ...等修改操作时,\n",
    "是否会影响外部变量,只取决于in_func_obj所指向的对象本身是否可变。如图3-2所示,浅色标签代表变量.\n",
    "白色方块代表值。在左侧的图里,in_func_obj和orig_obj都指向同一个字符串值'foo'。\n",
    "在对字符串进行+=操作时，因为字符串是不可变类型，所以程序会生成一个新对象（值）：'foo suffix',\n",
    "并让in_func_obj变量指向这个新对象:旧值(原始变量orig_obj指向的对象)则不受任何影响,如图3-2右侧所示。\n",
    "但如果对象是可变的(比如列表),+=操作就会直接原地修改in_func_obj变量所指向的值,而它同时也是原始变量orig_obj所指向的内容;\n",
    "待修改完成后,两个变量所指向的值(同一个)肯定就都受到了影响。如图3-3所示,右边的列表在操作后直接多了一个成员：'bar'。\n",
    "\n",
    "由此可见,Python的函数调用不能简单归类为“值传递”或者“引用传递”,一切行为取决于对象的可变性。\n",
    "\"\"\""
   ]
  },
  {
   "cell_type": "code",
   "execution_count": null,
   "metadata": {},
   "outputs": [],
   "source": []
  }
 ],
 "metadata": {
  "kernelspec": {
   "display_name": "Python 3.7.12 ('base')",
   "language": "python",
   "name": "python3"
  },
  "language_info": {
   "codemirror_mode": {
    "name": "ipython",
    "version": 3
   },
   "file_extension": ".py",
   "mimetype": "text/x-python",
   "name": "python",
   "nbconvert_exporter": "python",
   "pygments_lexer": "ipython3",
   "version": "3.7.12"
  },
  "orig_nbformat": 4,
  "vscode": {
   "interpreter": {
    "hash": "fd16a1c2e981052eaae61151b9525ae9913f1f0d16bca6b7e7be9e0f29d739d2"
   }
  }
 },
 "nbformat": 4,
 "nbformat_minor": 2
}
