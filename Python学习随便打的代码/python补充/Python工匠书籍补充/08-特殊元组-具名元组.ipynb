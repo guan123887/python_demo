{
 "cells": [
  {
   "cell_type": "code",
   "execution_count": 1,
   "metadata": {},
   "outputs": [
    {
     "data": {
      "text/plain": [
       "30"
      ]
     },
     "execution_count": 1,
     "metadata": {},
     "output_type": "execute_result"
    }
   ],
   "source": [
    "\"\"\"\n",
    "前面提到，元组经常用来存放结构化数据，\n",
    "但只能通过数字来访问元组成员其实特别不方便——比如我就完全记不住上面的rectangle[0]到底代表长方形的宽度还是高度。\n",
    "\n",
    "为了解决这个问题,我们可以使用一种特殊的元组:具名元组(namedtuple).具名元组在保留普通元组功能的基础上，\n",
    "允许为元组的每个成员命名,这样你便能通过名称而不止是数字索引访问成员。创建具名元组需要用到namedtuple()函数，\n",
    "它位于标准库的collections模块里,使用前需要先导入\n",
    "\"\"\""
   ]
  },
  {
   "cell_type": "code",
   "execution_count": 3,
   "metadata": {},
   "outputs": [],
   "source": [
    "from collections import namedtuple\n",
    "\n",
    "\"\"\"\n",
    "(1)除了用逗号来分隔具名元组的字段名称以外，还可以用空格分隔：'width height',\n",
    "或是直接使用一个字符串列表：['width', 'height']\n",
    "\"\"\"\n",
    "Rectangle = namedtuple('Rectangle', 'width, height')"
   ]
  },
  {
   "cell_type": "code",
   "execution_count": 4,
   "metadata": {},
   "outputs": [
    {
     "name": "stdout",
     "output_type": "stream",
     "text": [
      "100\n",
      "100\n"
     ]
    },
    {
     "ename": "AttributeError",
     "evalue": "can't set attribute",
     "output_type": "error",
     "traceback": [
      "\u001b[1;31m---------------------------------------------------------------------------\u001b[0m",
      "\u001b[1;31mAttributeError\u001b[0m                            Traceback (most recent call last)",
      "\u001b[1;32m~\\AppData\\Local\\Temp\\ipykernel_2184\\2980001949.py\u001b[0m in \u001b[0;36m<module>\u001b[1;34m\u001b[0m\n\u001b[0;32m      7\u001b[0m \u001b[0mprint\u001b[0m\u001b[1;33m(\u001b[0m\u001b[0mrect\u001b[0m\u001b[1;33m[\u001b[0m\u001b[1;36m0\u001b[0m\u001b[1;33m]\u001b[0m\u001b[1;33m)\u001b[0m\u001b[1;33m\u001b[0m\u001b[1;33m\u001b[0m\u001b[0m\n\u001b[0;32m      8\u001b[0m \u001b[0mprint\u001b[0m\u001b[1;33m(\u001b[0m\u001b[0mrect\u001b[0m\u001b[1;33m.\u001b[0m\u001b[0mwidth\u001b[0m\u001b[1;33m)\u001b[0m\u001b[1;33m\u001b[0m\u001b[1;33m\u001b[0m\u001b[0m\n\u001b[1;32m----> 9\u001b[1;33m \u001b[0mrect\u001b[0m\u001b[1;33m.\u001b[0m\u001b[0mwidth\u001b[0m \u001b[1;33m+=\u001b[0m \u001b[1;36m1\u001b[0m\u001b[1;33m\u001b[0m\u001b[1;33m\u001b[0m\u001b[0m\n\u001b[0m",
      "\u001b[1;31mAttributeError\u001b[0m: can't set attribute"
     ]
    }
   ],
   "source": [
    "\n",
    "\n",
    "\"\"\"\n",
    "(1)初始化具名元组\n",
    "(2)也可以指定字段名称来初始化\n",
    "(3)可以像普通元组一样，通过数字索引访问成员\n",
    "(4)具名元组也支持通过名称来访问成员\n",
    "(5)和普通元组一样,具名元组是不可变的\n",
    "\"\"\"\n",
    "rect = Rectangle(100, 20)\n",
    "rect1 = Rectangle(width=100, height=20)\n",
    "print(rect[0])\n",
    "print(rect.width)\n",
    "rect.width += 1\n"
   ]
  },
  {
   "cell_type": "code",
   "execution_count": 6,
   "metadata": {},
   "outputs": [
    {
     "name": "stdout",
     "output_type": "stream",
     "text": [
      "Rectangle(width=100, height=20)\n"
     ]
    }
   ],
   "source": [
    "# 在Python 3.6版本以后，除了使用namedtuple()函数以外，你还可以用typing.NamedTuple和类型注解语法来定义具名元组类型。这种方式在可读性上更胜一筹：\n",
    "from typing import NamedTuple\n",
    "class Rectangle(NamedTuple):\n",
    "  width:int\n",
    "  height:int\n",
    "\n",
    "rect = Rectangle(100, 20)\n",
    "print(rect)\n",
    "# 但需要注意的是，上面的写法虽然给width和height加了类型注解，但Python在执行时并不会做真正的类型校验。\n",
    "# 也就是说，下面这段代码也能正常执行\n",
    "rect_wrong_type = Rectangle('string', 'not_a_number')\n",
    "\n",
    "# 想要严格校验字段类型，可以使用mypy等工具对代码进行静态检查 见后面的代码"
   ]
  },
  {
   "cell_type": "code",
   "execution_count": null,
   "metadata": {},
   "outputs": [],
   "source": []
  }
 ],
 "metadata": {
  "kernelspec": {
   "display_name": "Python 3.7.12 ('base')",
   "language": "python",
   "name": "python3"
  },
  "language_info": {
   "codemirror_mode": {
    "name": "ipython",
    "version": 3
   },
   "file_extension": ".py",
   "mimetype": "text/x-python",
   "name": "python",
   "nbconvert_exporter": "python",
   "pygments_lexer": "ipython3",
   "version": "3.7.12"
  },
  "orig_nbformat": 4,
  "vscode": {
   "interpreter": {
    "hash": "fd16a1c2e981052eaae61151b9525ae9913f1f0d16bca6b7e7be9e0f29d739d2"
   }
  }
 },
 "nbformat": 4,
 "nbformat_minor": 2
}
