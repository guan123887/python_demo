{
 "cells": [
  {
   "cell_type": "markdown",
   "metadata": {},
   "source": [
    "# 1.遍历字典"
   ]
  },
  {
   "cell_type": "code",
   "execution_count": 1,
   "metadata": {},
   "outputs": [
    {
     "name": "stdout",
     "output_type": "stream",
     "text": [
      "2018\n"
     ]
    },
    {
     "data": {
      "text/plain": [
       "{'name': 'Burning', 'type': 'movie', 'year': 2018, 'rating': 9}"
      ]
     },
     "execution_count": 1,
     "metadata": {},
     "output_type": "execute_result"
    }
   ],
   "source": [
    "movie = {'name': 'Burning', 'type': 'movie', 'year': 2018}\n",
    "\n",
    "# 通过 key 来获取某个 value\n",
    "print(movie['year'])\n",
    "\n",
    "# 字典是一种可变类型，所以可以给它增加新的key\n",
    "movie['rating'] = 10\n",
    "\n",
    "# 字典的key 不可重复，对同一个 key 赋值会覆盖旧值\n",
    "movie['rating'] = 9\n",
    "movie"
   ]
  },
  {
   "cell_type": "markdown",
   "metadata": {},
   "source": [
    "# 2.访问不存在的字典键"
   ]
  },
  {
   "cell_type": "code",
   "execution_count": 3,
   "metadata": {},
   "outputs": [
    {
     "data": {
      "text/plain": [
       "9"
      ]
     },
     "execution_count": 3,
     "metadata": {},
     "output_type": "execute_result"
    }
   ],
   "source": [
    "\"\"\"\n",
    "当用不存在的键访问字典内容时,程序会抛出KeyError异常,我们通常称之为程序里的边界情况(edge case).\n",
    "针对这种边界情况，比较常见的处理方式有两种:\n",
    "(1)读取内容前先做一次条件判断,只有判断通过的情况下才继续执行其他操作;\n",
    "(2)直接操作,但是捕获KeyError异常\n",
    "\"\"\"\n",
    "\n",
    "## 1.第一种写法\n",
    "if 'rating' in movie:\n",
    "  rating = movie['rating']\n",
    "else:\n",
    "  rating = 0\n",
    "\n",
    "## 2.第二种写法\n",
    "try:\n",
    "  rating = movie['rating']\n",
    "except KeyError:\n",
    "  rating = 0\n",
    "\n",
    "# 在Python中，人们比较推崇第二种写法，因为它看起来更简洁，执行效率也更高。\n",
    "# 不过，如果只是“提供默认值的读取操作”，其实可以直接使用字典的.get()方法。\n",
    "\n",
    "## dict.get(key, default)方法接收一个default参数，当访问的键不存在时，方法会返回default作为默认值：\n",
    "movie.get('rating', 0)"
   ]
  },
  {
   "cell_type": "code",
   "execution_count": 9,
   "metadata": {},
   "outputs": [
    {
     "data": {
      "text/plain": [
       "{'title': 'foobar', 'items': ['foo']}"
      ]
     },
     "execution_count": 9,
     "metadata": {},
     "output_type": "execute_result"
    }
   ],
   "source": [
    "# 3.使用setdefault取值并修改\n",
    "\"\"\"\n",
    " 有时，我们需要修改字典中某个可能不存在的键，比如在下面的代码里，我需要往字典d的items键里追加新值，但d['items']可能根本就不存在。\n",
    " 因此我写了一段异常捕获逻辑——假如d['items']不存在，就以列表来初始化它：\n",
    "\"\"\"\n",
    "d = {}\n",
    "value = 'value'\n",
    "try:\n",
    "  d['item'].append(value)\n",
    "except:\n",
    "  d['item'] = [value]\n",
    "\n",
    "\"\"\"\n",
    "针对上面这种情况,其实有一个更适合的工具:d.setdefault(key, default=None)方法。\n",
    "使用它，可以直接删掉上面的异常捕获，代码逻辑会变得更简单。视条件的不同，\n",
    "\n",
    "调用dict.setdefault(key, default)会产生两种结果:当key不存在时,\n",
    "该方法会把default值写入字典的key位置,并返回该值;假如key已经存在,该方法就会直接返回它在字典中的对应值。代码如下：\n",
    "\"\"\"\n",
    "d = {'title': 'foobar'}\n",
    "d.setdefault('items', []).append('foo')\n",
    "d"
   ]
  },
  {
   "cell_type": "code",
   "execution_count": 10,
   "metadata": {},
   "outputs": [
    {
     "data": {
      "text/plain": [
       "{'title': 'foobar', 'items': ['foo', 'bar']}"
      ]
     },
     "execution_count": 10,
     "metadata": {},
     "output_type": "execute_result"
    }
   ],
   "source": [
    "d.setdefault('items', []).append('bar')\n",
    "d\n",
    "\n",
    "# (1)若key不存在，以空列表[]初始化并返回\n",
    "# (2)若key存在，直接返回旧值"
   ]
  },
  {
   "cell_type": "code",
   "execution_count": 11,
   "metadata": {},
   "outputs": [],
   "source": [
    "# 4/使用pop方法删除不存在的键\n",
    "## 如果我们想删除字典里的某个键，一般会使用del d[key]语句;\n",
    "## 但如果要删除的键不存在，该操作就会抛出KeyError异常。\n",
    "## 因此，要想安全地删除某个键，需要加上一段异常捕获逻辑;\n",
    "key = 'key'\n",
    "try:\n",
    "  del d[key]\n",
    "except KeyError:\n",
    "  # 忽略ket不存在的情况\n",
    "  pass"
   ]
  },
  {
   "cell_type": "code",
   "execution_count": 12,
   "metadata": {},
   "outputs": [],
   "source": [
    "# 但假设你只是单纯地想去掉某个键，并不关心它存在与否、删除有没有成功，\n",
    "# 那么使用dict.pop(key, default)方法就够了。\n",
    "# 只要在调用pop方法时传入默认值None，在键不存在的情况下也不会产生任何异常\n",
    "d.pop(key, None)\n",
    "\n",
    "# 严格说来，pop方法的主要用途并不是删除某个键，而是取出这个键对应的值。但我个人觉得，偶尔用它来执行删除操作也无伤大雅。"
   ]
  },
  {
   "cell_type": "markdown",
   "metadata": {},
   "source": [
    "# 5.字典推导式"
   ]
  },
  {
   "cell_type": "code",
   "execution_count": 13,
   "metadata": {},
   "outputs": [
    {
     "data": {
      "text/plain": [
       "{'foo': 30}"
      ]
     },
     "execution_count": 13,
     "metadata": {},
     "output_type": "execute_result"
    }
   ],
   "source": [
    "# 和列表类似，字典同样有自己的字典推导式。（比元组待遇好多啦！）你可以用它来方便地过滤和处理字典成员：\n",
    "d1 = {'foo' : 3, 'bar' : 4}\n",
    "{key: value*10 for key, value in d1.items() if key == 'foo'}"
   ]
  },
  {
   "cell_type": "markdown",
   "metadata": {},
   "source": [
    "# 6.认识字典的有序性和无序性"
   ]
  },
  {
   "cell_type": "code",
   "execution_count": 14,
   "metadata": {},
   "outputs": [
    {
     "name": "stdout",
     "output_type": "stream",
     "text": [
      "FIRST_KEY\n",
      "SECOND_KEY\n"
     ]
    }
   ],
   "source": [
    "# 在Python 3.6版本以前，几乎所有开发者都遵从一条常识：“Python的字典是无序的。”这里的无序指的是：当你按照某种顺序把内容存进字典后，就永远没法按照原顺序把它取出来了。\n",
    "\n",
    "d = {}\n",
    "d['FIRST_KEY'] = 1\n",
    "d['SECOND_KEY'] = 2\n",
    "\n",
    "for key in d:\n",
    "  print(key)\n",
    "\n",
    "## 2.7版本运行此代码打印结果为  \n",
    "# SECOND_KEY \n",
    "# FIRST_KEY"
   ]
  },
  {
   "cell_type": "code",
   "execution_count": 16,
   "metadata": {},
   "outputs": [
    {
     "name": "stdout",
     "output_type": "stream",
     "text": [
      "FIRST_KEY\n",
      "SECOND_KEY\n",
      "True\n",
      "False\n"
     ]
    }
   ],
   "source": [
    "\"\"\"\n",
    "上面这种无序现象,是由字典的底层实现所决定的。\n",
    "Python里的字典在底层使用了哈希表(hash table)数据结构。当你往字典里存放一对key: value时,\n",
    "Python会先通过哈希算法计算出key的哈希值——一个整型数字;然后根据这个哈希值,决定数据在表里的具体位置。\n",
    "因此,最初的内容插入顺序,在这个哈希过程中被自然丢掉了,字典里的内容顺序变得仅与哈希值相关,与写入顺序无关。\n",
    "在很长一段时间里,字典的这种无序性一直被当成一个常识为大家所接受。\n",
    "但Python语言在不断进化。Python 3.6为字典类型引入了一个改进:优化了底层实现,\n",
    "同样的字典相比3.5版本可节约多达25%的内存.而这个改进同时带来了一个有趣的副作用:字典变得有序了。\n",
    "因此,只要用Python 3.6之后的版本执行前面的代码,结果永远都会是FIRST_KEY在前,SECOND_KEY在后。\n",
    "一开始,字典变为有序只是作为3.6版本的“隐藏特性”存在。但到了3.7版本，它已经彻底成了语言规范的一部分。\n",
    "如今当你使用字典时,假如程序的目标运行环境是Python 3.7或更高版本，那你完全可以依赖字典类型的这种有序特性。\n",
    "\"\"\"\n",
    "\n",
    "# 但如果你使用的Python版本没有那么新，也可以从collections模块里方便地拿到另一个有序字典对象OrderedDict，它可以在Python 3.7以前的版本里保证字典有序\n",
    "# 用在旧版本保证字典有序，新版本自动使得字典有序\n",
    "from collections import OrderedDict\n",
    "d = OrderedDict()\n",
    "d['FIRST_KEY'] = 1\n",
    "d['SECOND_KEY'] = 2\n",
    "\n",
    "for key in d:\n",
    "  print(key)\n",
    "\n",
    "\"\"\"\n",
    "OrderedDict比起普通字典仍然有一些优势。最直接的一点是,\n",
    "OrderedDict把“有序”放在了自己的名字里,\n",
    "因此当你在代码中使用它时，其实比普通字典更清晰地表达了“此处会依赖字典的有序特性”这一点。\n",
    "\n",
    "另外从功能上来说,OrderedDict与新版本的字典其实也有着一些细微区别。\n",
    "比如,在对比两个内容相同而顺序不同的字典对象时,解释器会返回True结果;但如果是OrderedDict对象,则会返回False;\n",
    "\"\"\"\n",
    "\n",
    "d1 = {'name': 'piglei', 'fruit': 'apple'}\n",
    "d2 = {'fruit': 'apple', 'name': 'piglei'}\n",
    "print(d1 == d2)\n",
    "\n",
    "d1 = OrderedDict(name='piglei', fruit='apple')\n",
    "d2 = OrderedDict(fruit='apple', name='piglei')\n",
    "print(d1 == d2)\n",
    "\n",
    "## (1)内容一致而顺序不同的字典被视作相等，因为解释器只对比字典的键和值是否一致\n",
    "## (2)同样的OrderedDict则被视作不相等，因为“键的顺序”也会作为对比条件\n",
    "## 除此之外，OrderedDict还有.move_to_end()等普通字典没有的一些方法。\n",
    "## 所以，即便Python 3.7及之后的版本已经提供了内置的“有序字典”，但OrderedDict仍然有着自己的一席之地。"
   ]
  }
 ],
 "metadata": {
  "kernelspec": {
   "display_name": "Python 3.7.12 ('base')",
   "language": "python",
   "name": "python3"
  },
  "language_info": {
   "codemirror_mode": {
    "name": "ipython",
    "version": 3
   },
   "file_extension": ".py",
   "mimetype": "text/x-python",
   "name": "python",
   "nbconvert_exporter": "python",
   "pygments_lexer": "ipython3",
   "version": "3.7.12"
  },
  "orig_nbformat": 4,
  "vscode": {
   "interpreter": {
    "hash": "fd16a1c2e981052eaae61151b9525ae9913f1f0d16bca6b7e7be9e0f29d739d2"
   }
  }
 },
 "nbformat": 4,
 "nbformat_minor": 2
}
