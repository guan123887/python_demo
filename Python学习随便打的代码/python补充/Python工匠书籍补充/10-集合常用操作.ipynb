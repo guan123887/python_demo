{
 "cells": [
  {
   "cell_type": "code",
   "execution_count": 1,
   "metadata": {},
   "outputs": [],
   "source": [
    "# 集合是一种无序的可变容器类型，它最大的特点就是成员不能重复。集合字面量的语法和字典很像，\n",
    "# 都是使用大括号包裹，但集合里装的是一维的值{value, ...}，而不是键值对{key: value, ...}"
   ]
  },
  {
   "cell_type": "code",
   "execution_count": 13,
   "metadata": {},
   "outputs": [
    {
     "data": {
      "text/plain": [
       "{'apple', 'orange', 'pineapple', 'strawberry'}"
      ]
     },
     "execution_count": 13,
     "metadata": {},
     "output_type": "execute_result"
    }
   ],
   "source": [
    "fruits = {'pineapple', 'strawberry', 'apple', 'orange', 'apple'}\n",
    "fruits\n",
    "## 重新查看上面fruits变量的值，你会马上体会到集合最重要的两个特征——去重和无序. \n",
    "# (在本机中虽然按照顺序输出, 但是在不同环境下输出顺序不固定), 所以集合不同于3.7版本的dict, 一直时无序的"
   ]
  },
  {
   "cell_type": "code",
   "execution_count": 7,
   "metadata": {},
   "outputs": [
    {
     "data": {
      "text/plain": [
       "{1, 2}"
      ]
     },
     "execution_count": 7,
     "metadata": {},
     "output_type": "execute_result"
    }
   ],
   "source": [
    "# 初始化空集合\n",
    "empty_set = set()\n",
    "\n",
    "## 集合推导法\n",
    "nums = [1, 2, 2, 4, 1]\n",
    "{n for n in nums if n < 3}"
   ]
  },
  {
   "cell_type": "markdown",
   "metadata": {},
   "source": [
    "# 1.不可变的集合frozenset"
   ]
  },
  {
   "cell_type": "code",
   "execution_count": 8,
   "metadata": {},
   "outputs": [
    {
     "data": {
      "text/plain": [
       "{'apple', 'bar', 'foo'}"
      ]
     },
     "execution_count": 8,
     "metadata": {},
     "output_type": "execute_result"
    }
   ],
   "source": [
    "## 集合是一种可变类型，使用add方法追加新成员\n",
    "new_set = set(['foo', 'foo', 'bar'])\n",
    "new_set.add('apple')\n",
    "new_set"
   ]
  },
  {
   "cell_type": "code",
   "execution_count": 9,
   "metadata": {},
   "outputs": [
    {
     "ename": "AttributeError",
     "evalue": "'frozenset' object has no attribute 'add'",
     "output_type": "error",
     "traceback": [
      "\u001b[1;31m---------------------------------------------------------------------------\u001b[0m",
      "\u001b[1;31mAttributeError\u001b[0m                            Traceback (most recent call last)",
      "\u001b[1;32m~\\AppData\\Local\\Temp\\ipykernel_9748\\777726133.py\u001b[0m in \u001b[0;36m<module>\u001b[1;34m\u001b[0m\n\u001b[0;32m      1\u001b[0m \u001b[1;31m# 使用frozenset设置不可变集合\u001b[0m\u001b[1;33m\u001b[0m\u001b[1;33m\u001b[0m\u001b[1;33m\u001b[0m\u001b[0m\n\u001b[0;32m      2\u001b[0m \u001b[0mf_set\u001b[0m \u001b[1;33m=\u001b[0m \u001b[0mfrozenset\u001b[0m\u001b[1;33m(\u001b[0m\u001b[1;33m[\u001b[0m\u001b[1;34m'foo'\u001b[0m\u001b[1;33m,\u001b[0m \u001b[1;34m'bar'\u001b[0m\u001b[1;33m]\u001b[0m\u001b[1;33m)\u001b[0m\u001b[1;33m\u001b[0m\u001b[1;33m\u001b[0m\u001b[0m\n\u001b[1;32m----> 3\u001b[1;33m \u001b[0mf_set\u001b[0m\u001b[1;33m.\u001b[0m\u001b[0madd\u001b[0m\u001b[1;33m(\u001b[0m\u001b[1;34m'apple'\u001b[0m\u001b[1;33m)\u001b[0m\u001b[1;33m\u001b[0m\u001b[1;33m\u001b[0m\u001b[0m\n\u001b[0m",
      "\u001b[1;31mAttributeError\u001b[0m: 'frozenset' object has no attribute 'add'"
     ]
    }
   ],
   "source": [
    "# 使用frozenset设置不可变集合\n",
    "f_set = frozenset(['foo', 'bar'])\n",
    "f_set.add('apple')  # AttributeError: 'frozenset' object has no attribute 'add'"
   ]
  },
  {
   "cell_type": "markdown",
   "metadata": {},
   "source": [
    "# 2.集合运算"
   ]
  },
  {
   "cell_type": "code",
   "execution_count": 10,
   "metadata": {},
   "outputs": [],
   "source": [
    "# 除了天生不重复以外，集合的最大独特之处在于：你可以对其进行真正的集合运算，\n",
    "# 比如求交集、并集、差集，等等。所有操作都可以用两种方式来进行：方法和运算符。\n",
    "fruits_1 = {'apple', 'orange', 'pineapple'}\n",
    "fruits_2 = {'tomato', 'orange', 'grapes', 'mango'}"
   ]
  },
  {
   "cell_type": "code",
   "execution_count": 11,
   "metadata": {},
   "outputs": [
    {
     "name": "stdout",
     "output_type": "stream",
     "text": [
      "{'orange'}\n",
      "{'orange'}\n"
     ]
    }
   ],
   "source": [
    "# 1.求交集-方法一 &\n",
    "print(fruits_1 & fruits_2)\n",
    "# 1.求交集-方法二 intersection\n",
    "print(fruits_1.intersection(fruits_2))"
   ]
  },
  {
   "cell_type": "code",
   "execution_count": 12,
   "metadata": {},
   "outputs": [
    {
     "name": "stdout",
     "output_type": "stream",
     "text": [
      "{'pineapple', 'mango', 'tomato', 'orange', 'apple', 'grapes'}\n",
      "{'pineapple', 'mango', 'tomato', 'orange', 'apple', 'grapes'}\n"
     ]
    }
   ],
   "source": [
    "# 2.求并集-方法一 |\n",
    "print(fruits_1 | fruits_2)\n",
    "# 2.求并集-方法二 union\n",
    "print(fruits_1.union(fruits_2))"
   ]
  },
  {
   "cell_type": "code",
   "execution_count": 14,
   "metadata": {},
   "outputs": [
    {
     "name": "stdout",
     "output_type": "stream",
     "text": [
      "{'apple', 'pineapple'}\n",
      "{'apple', 'pineapple'}\n"
     ]
    }
   ],
   "source": [
    "# 3.求差集-方法一 -\n",
    "print(fruits_1 - fruits_2)\n",
    "# 3.求差集-方法二 difference\n",
    "print(fruits_1.difference(fruits_2))"
   ]
  },
  {
   "cell_type": "code",
   "execution_count": 15,
   "metadata": {},
   "outputs": [
    {
     "name": "stdout",
     "output_type": "stream",
     "text": [
      "{'pineapple', 'mango', 'apple', 'tomato', 'grapes'}\n",
      "False\n"
     ]
    }
   ],
   "source": [
    "# 集合还有symmetric_difference、issubset等其他许多有用的操作，你可以在官方文档里找到详细的说明\n",
    "# (1)symmetric_difference  返回包含两个集合所有类别的集合(除了目前在两个集合都存在的类别)  也就是 并集-交集\n",
    "print(fruits_1.symmetric_difference(fruits_2))\n",
    "# (2)issubset   如果在两个集合元素完全一样则返回True\n",
    "print(fruits_1.issubset(fruits_2))"
   ]
  },
  {
   "cell_type": "markdown",
   "metadata": {},
   "source": [
    "# 3.集合只能存放可哈希对象"
   ]
  },
  {
   "cell_type": "code",
   "execution_count": 16,
   "metadata": {},
   "outputs": [
    {
     "ename": "TypeError",
     "evalue": "unhashable type: 'list'",
     "output_type": "error",
     "traceback": [
      "\u001b[1;31m---------------------------------------------------------------------------\u001b[0m",
      "\u001b[1;31mTypeError\u001b[0m                                 Traceback (most recent call last)",
      "\u001b[1;32m~\\AppData\\Local\\Temp\\ipykernel_9748\\743749544.py\u001b[0m in \u001b[0;36m<module>\u001b[1;34m\u001b[0m\n\u001b[0;32m      2\u001b[0m \u001b[0mvalid_set\u001b[0m \u001b[1;33m=\u001b[0m \u001b[1;33m{\u001b[0m\u001b[1;34m'apple'\u001b[0m\u001b[1;33m,\u001b[0m \u001b[1;36m30\u001b[0m\u001b[1;33m,\u001b[0m \u001b[1;36m1.3\u001b[0m\u001b[1;33m,\u001b[0m \u001b[1;33m(\u001b[0m\u001b[1;34m'foo'\u001b[0m\u001b[1;33m,\u001b[0m\u001b[1;33m)\u001b[0m\u001b[1;33m}\u001b[0m\u001b[1;33m\u001b[0m\u001b[1;33m\u001b[0m\u001b[0m\n\u001b[0;32m      3\u001b[0m \u001b[1;31m# 不可以被成功初始化\u001b[0m\u001b[1;33m\u001b[0m\u001b[1;33m\u001b[0m\u001b[1;33m\u001b[0m\u001b[0m\n\u001b[1;32m----> 4\u001b[1;33m \u001b[0minvalid_set\u001b[0m \u001b[1;33m=\u001b[0m \u001b[1;33m{\u001b[0m\u001b[1;34m'foo'\u001b[0m\u001b[1;33m,\u001b[0m \u001b[1;33m[\u001b[0m\u001b[1;36m1\u001b[0m\u001b[1;33m,\u001b[0m \u001b[1;36m2\u001b[0m\u001b[1;33m,\u001b[0m \u001b[1;36m3\u001b[0m\u001b[1;33m]\u001b[0m\u001b[1;33m}\u001b[0m  \u001b[1;31m# TypeError: unhashable type: 'list'\u001b[0m\u001b[1;33m\u001b[0m\u001b[1;33m\u001b[0m\u001b[0m\n\u001b[0m",
      "\u001b[1;31mTypeError\u001b[0m: unhashable type: 'list'"
     ]
    }
   ],
   "source": [
    "# 可以被成功初始化\n",
    "valid_set = {'apple', 30, 1.3, ('foo',)}\n",
    "# 不可以被成功初始化\n",
    "invalid_set = {'foo', [1, 2, 3]}  # TypeError: unhashable type: 'list'"
   ]
  },
  {
   "cell_type": "code",
   "execution_count": 17,
   "metadata": {},
   "outputs": [
    {
     "data": {
      "text/plain": [
       "-2560376234369862494"
      ]
     },
     "execution_count": 17,
     "metadata": {},
     "output_type": "execute_result"
    }
   ],
   "source": [
    "\"\"\"\n",
    "我们说过字典底层使用了哈希表数据结构，其实集合也一样。当我们把某个对象放进集合或者作为字典的键使用时，\n",
    "解释器都需要对该对象进行一次哈希运算，得到哈希值，然后再进行后面的操作。\n",
    "这个计算哈希值的过程,是通过调用内置函数hash(obj)完成的。\n",
    "如果对象是可哈希的,hash函数会返回一个整型结果,否则将会报TypeError错误。\n",
    "\"\"\"\n",
    "\n",
    "# 可哈希对象\n",
    "## 1.不可变的内置类型都是可哈希的 \n",
    "hash('string')  # str\n",
    "\n",
    "hash(100)  # 整数\n",
    "# 有趣的事情，整型的hash 值就是它自身的值\n",
    "\n",
    "hash(3.2)  # 浮点数\n",
    "\n",
    "hash((1, 2, 3))  # set\n",
    "\n",
    "hash(u'str')"
   ]
  },
  {
   "cell_type": "code",
   "execution_count": 18,
   "metadata": {},
   "outputs": [
    {
     "ename": "TypeError",
     "evalue": "unhashable type: 'dict'",
     "output_type": "error",
     "traceback": [
      "\u001b[1;31m---------------------------------------------------------------------------\u001b[0m",
      "\u001b[1;31mTypeError\u001b[0m                                 Traceback (most recent call last)",
      "\u001b[1;32m~\\AppData\\Local\\Temp\\ipykernel_9748\\392742284.py\u001b[0m in \u001b[0;36m<module>\u001b[1;34m\u001b[0m\n\u001b[0;32m      1\u001b[0m \u001b[1;31m## 2.可变的内置类型都无法计算哈希值\u001b[0m\u001b[1;33m\u001b[0m\u001b[1;33m\u001b[0m\u001b[1;33m\u001b[0m\u001b[0m\n\u001b[1;32m----> 2\u001b[1;33m \u001b[0mhash\u001b[0m\u001b[1;33m(\u001b[0m\u001b[1;33m{\u001b[0m\u001b[1;34m'key'\u001b[0m\u001b[1;33m:\u001b[0m \u001b[1;34m'value'\u001b[0m\u001b[1;33m}\u001b[0m\u001b[1;33m)\u001b[0m  \u001b[1;31m# TypeError: unhashable type: 'dict'\u001b[0m\u001b[1;33m\u001b[0m\u001b[1;33m\u001b[0m\u001b[0m\n\u001b[0m\u001b[0;32m      3\u001b[0m \u001b[1;33m\u001b[0m\u001b[0m\n\u001b[0;32m      4\u001b[0m \u001b[0mhash\u001b[0m\u001b[1;33m(\u001b[0m\u001b[1;33m[\u001b[0m\u001b[1;36m1\u001b[0m\u001b[1;33m,\u001b[0m \u001b[1;36m2\u001b[0m\u001b[1;33m,\u001b[0m \u001b[1;36m3\u001b[0m\u001b[1;33m]\u001b[0m\u001b[1;33m)\u001b[0m  \u001b[1;31m# TypeError: unhashable type: 'list'\u001b[0m\u001b[1;33m\u001b[0m\u001b[1;33m\u001b[0m\u001b[0m\n",
      "\u001b[1;31mTypeError\u001b[0m: unhashable type: 'dict'"
     ]
    }
   ],
   "source": [
    "## 2.可变的内置类型都无法计算哈希值\n",
    "hash({'key': 'value'})  # TypeError: unhashable type: 'dict'\n",
    "\n",
    "hash([1, 2, 3])  # TypeError: unhashable type: 'list'\n",
    "\n",
    "## 可变类型的不可哈希特点有一定的“传染性”。比如在一个 原本可哈希的元组里放入可变的列表对象 后，它也会马上变得不可哈希"
   ]
  },
  {
   "cell_type": "code",
   "execution_count": 19,
   "metadata": {},
   "outputs": [
    {
     "data": {
      "text/plain": [
       "-9223371918698145432"
      ]
     },
     "execution_count": 19,
     "metadata": {},
     "output_type": "execute_result"
    }
   ],
   "source": [
    "## 3.由用户定义的所有对象默认都是可哈希的\n",
    "class Foo:\n",
    "  pass\n",
    "foo = Foo()\n",
    "hash(foo)"
   ]
  },
  {
   "cell_type": "code",
   "execution_count": null,
   "metadata": {},
   "outputs": [],
   "source": [
    "# 总结\n",
    "\"\"\"\n",
    "总结一下,某种类型是否可哈希遵循下面的规则:\n",
    "(1)所有的不可变内置类型,都是可哈希的,比如str、int、tuple、frozenset, float等;\n",
    "(2)所有的可变内置类型，都是不可哈希的,比如dict、list等;\n",
    "(3)对于不可变容器类型(tuple, frozenset)，仅当它的所有成员都不可变时,它自身才是可哈希的;\n",
    "(4)用户定义的类型默认都是可哈希的。\n",
    "谨记，只有可哈希的对象，才能放进集合或作为字典的键使用。\n",
    "\"\"\""
   ]
  }
 ],
 "metadata": {
  "kernelspec": {
   "display_name": "Python 3.7.12 ('base')",
   "language": "python",
   "name": "python3"
  },
  "language_info": {
   "codemirror_mode": {
    "name": "ipython",
    "version": 3
   },
   "file_extension": ".py",
   "mimetype": "text/x-python",
   "name": "python",
   "nbconvert_exporter": "python",
   "pygments_lexer": "ipython3",
   "version": "3.7.12"
  },
  "orig_nbformat": 4,
  "vscode": {
   "interpreter": {
    "hash": "fd16a1c2e981052eaae61151b9525ae9913f1f0d16bca6b7e7be9e0f29d739d2"
   }
  }
 },
 "nbformat": 4,
 "nbformat_minor": 2
}
