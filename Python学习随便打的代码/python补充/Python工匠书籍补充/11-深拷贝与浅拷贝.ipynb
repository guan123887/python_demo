{
 "cells": [
  {
   "cell_type": "code",
   "execution_count": 8,
   "metadata": {},
   "outputs": [
    {
     "name": "stdout",
     "output_type": "stream",
     "text": [
      "True\n",
      "3 2 False\n",
      "4 3 False\n"
     ]
    }
   ],
   "source": [
    "# 扩展,整数赋值, 创建新的空间\n",
    "a = 2\n",
    "b = a\n",
    "print(id(a)==id(b))  # 单纯赋值指向同一地址,一旦值改变,就新开辟地址,指向不同地址\n",
    "a = 3\n",
    "print(a, b, id(a)==id(b))\n",
    "\n",
    "a = b = 3\n",
    "a = 4\n",
    "print(a,b,id(a)==id(b))"
   ]
  },
  {
   "cell_type": "code",
   "execution_count": 11,
   "metadata": {},
   "outputs": [
    {
     "data": {
      "text/plain": [
       "'\\n假如我们想让两个变量的修改操作互不影响，就需要拷贝变量所指向的可变对象，\\n做到让不同变量指向不同对象。按拷贝的深度，常用的拷贝操作可分为两种：浅拷贝与深拷贝。\\n'"
      ]
     },
     "execution_count": 11,
     "metadata": {},
     "output_type": "execute_result"
    }
   ],
   "source": [
    "# 我们学习了对象的可变性概念，并看到了可变性如何影响代码的行为。\n",
    "# 在操作这些可变对象时，如果不拷贝原始对象就修改，可能会产生我们并不期待的结果。\n",
    "\n",
    "# 比如在下面的代码里，a和b两个变量就指向了同一个列表，修改a的同时会影响b：\n",
    "a = [1, 2, 3, 4]\n",
    "b = a\n",
    "a[2] = 30\n",
    "b\n",
    "\n",
    "\"\"\"\n",
    "假如我们想让两个变量的修改操作互不影响，就需要拷贝变量所指向的可变对象，\n",
    "做到让不同变量指向不同对象。按拷贝的深度，常用的拷贝操作可分为两种：浅拷贝与深拷贝。\n",
    "\"\"\""
   ]
  },
  {
   "cell_type": "markdown",
   "metadata": {},
   "source": [
    "# 1. 浅拷贝"
   ]
  },
  {
   "cell_type": "code",
   "execution_count": 12,
   "metadata": {},
   "outputs": [
    {
     "data": {
      "text/plain": [
       "([1, 2, 30, 4], [1, 2, 3, 4])"
      ]
     },
     "execution_count": 12,
     "metadata": {},
     "output_type": "execute_result"
    }
   ],
   "source": [
    "# 方法一:要进行浅拷贝，最通用的办法是使用copy模块下的copy()方法：\n",
    "import copy\n",
    "nums = [1, 2, 3, 4]\n",
    "nums_copy = copy.copy(nums)\n",
    "nums[2] = 30\n",
    "\n",
    "nums, nums_copy"
   ]
  },
  {
   "cell_type": "code",
   "execution_count": 13,
   "metadata": {},
   "outputs": [
    {
     "data": {
      "text/plain": [
       "({'foo': 2}, {'foo': 1})"
      ]
     },
     "execution_count": 13,
     "metadata": {},
     "output_type": "execute_result"
    }
   ],
   "source": [
    "# 方法二:除了使用copy()函数外，对于那些支持推导式的类型，用推导式也可以产生一个浅拷贝对象\n",
    "d = {'foo' : 1}\n",
    "d2 = {key: value for key, value in d.items()}\n",
    "d['foo'] = 2\n",
    "d, d2"
   ]
  },
  {
   "cell_type": "code",
   "execution_count": null,
   "metadata": {},
   "outputs": [],
   "source": [
    "# 方法三:使用各容器类型的内置构造函数，同样能实现浅拷贝效果：\n",
    "d2 = dict(d.items())  # 以d的内容构建一个新字典\n",
    "nums_copy = list(nums)  # 以列表nums的成员构建一个新列表"
   ]
  },
  {
   "cell_type": "code",
   "execution_count": 14,
   "metadata": {},
   "outputs": [],
   "source": [
    "# 方法四:对于支持切片操作的容器类型,比如列表、元组,对其进行全切片可以实现浅拷贝效果.\n",
    "#nums_copy会变成 nums的浅拷贝\n",
    "nums_copy = nums[:]"
   ]
  },
  {
   "cell_type": "code",
   "execution_count": 15,
   "metadata": {},
   "outputs": [
    {
     "name": "stdout",
     "output_type": "stream",
     "text": [
      "[1, 2, 3, 4]\n",
      "{'foo': 'bar'}\n"
     ]
    }
   ],
   "source": [
    "# 方法五:有些方法自身就提供了浅拷贝方法\n",
    "## 1.列表有copy方法\n",
    "l_arr = [1, 2, 3, 4]\n",
    "print(l_arr.copy())\n",
    "\n",
    "## 2.字典也有copy方法\n",
    "d = {'foo': 'bar'}\n",
    "print(d.copy())"
   ]
  },
  {
   "cell_type": "markdown",
   "metadata": {},
   "source": [
    "# 2.深拷贝"
   ]
  },
  {
   "cell_type": "code",
   "execution_count": 18,
   "metadata": {},
   "outputs": [
    {
     "name": "stdout",
     "output_type": "stream",
     "text": [
      "[100, ['foo', 'bar', 'xxx'], 2, 3]\n",
      "[1, ['foo', 'bar', 'xxx'], 2, 3]\n",
      "True\n"
     ]
    }
   ],
   "source": [
    "# 大部分情况下，上面的浅拷贝操作足以满足我们对可变类型的复制需求。\n",
    "# 但对于一些层层嵌套的复杂数据来说，浅拷贝仍然无法解决嵌套对象被修改的问题。\n",
    "## 比如\n",
    "items = [1, ['foo', 'bar'], 2, 3]\n",
    "## 如果只是使用copy.copy()对items进行浅拷贝，你会发现它并不能做到完全隔离两个变量\n",
    "import copy\n",
    "items_copy = copy.copy(items)\n",
    "items[0] = 100   # ①\n",
    "items[1].append('xxx') # ②\n",
    "print(items)\n",
    "print(items_copy) # ③\n",
    "\n",
    "\"\"\"\n",
    "①修改items的第一层成员\n",
    "②修改items的第二层成员,往子列表内追加元素\n",
    "③对items[1]的第一层修改没有影响浅拷贝对象,items_copy[0]仍然是1,\n",
    "但对嵌套子列表items[1]的修改已经影响了items_copy[1]的值,列表内多出了'xxx'.\n",
    "\n",
    "之所以会出现这样的结果,是因为即便对items做了浅拷贝,items[1]和items_copy[1]指向的仍旧是同一个列表。\n",
    "如果使用id()函数查看它们的对象ID,会发现它们其实是同一个对象\n",
    "\"\"\"\n",
    "print(id(items[1])==id(items_copy[1]))"
   ]
  },
  {
   "cell_type": "code",
   "execution_count": 19,
   "metadata": {},
   "outputs": [
    {
     "name": "stdout",
     "output_type": "stream",
     "text": [
      "False\n"
     ]
    }
   ],
   "source": [
    "## 解决方法 copy.deepcopy() 深拷贝方法\n",
    "\n",
    "# 深拷贝会遍历并拷贝items里的所有内容——包括它所嵌套的子列表。\n",
    "# 做完深拷贝后，items和items_deep的子列表不再是同一个对象，它们的修改操作自然也不会再相互影响：\n",
    "items_deep = copy.deepcopy(items)\n",
    "print(id(items[1])==id(items_deep[1]))"
   ]
  },
  {
   "cell_type": "code",
   "execution_count": null,
   "metadata": {},
   "outputs": [],
   "source": []
  }
 ],
 "metadata": {
  "kernelspec": {
   "display_name": "Python 3.7.12 ('base')",
   "language": "python",
   "name": "python3"
  },
  "language_info": {
   "codemirror_mode": {
    "name": "ipython",
    "version": 3
   },
   "file_extension": ".py",
   "mimetype": "text/x-python",
   "name": "python",
   "nbconvert_exporter": "python",
   "pygments_lexer": "ipython3",
   "version": "3.7.12"
  },
  "orig_nbformat": 4,
  "vscode": {
   "interpreter": {
    "hash": "fd16a1c2e981052eaae61151b9525ae9913f1f0d16bca6b7e7be9e0f29d739d2"
   }
  }
 },
 "nbformat": 4,
 "nbformat_minor": 2
}
