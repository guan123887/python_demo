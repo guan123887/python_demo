{
 "cells": [
  {
   "cell_type": "markdown",
   "metadata": {},
   "source": [
    "# 1.自定义模块"
   ]
  },
  {
   "cell_type": "code",
   "execution_count": 1,
   "metadata": {},
   "outputs": [
    {
     "name": "stdout",
     "output_type": "stream",
     "text": [
      "The area of circle: 78.539815\n"
     ]
    }
   ],
   "source": [
    "from parameters import PI\n",
    "\n",
    "def calc_round_area(radius):\n",
    "  return PI * (radius ** 2)  # 定义圆形面积\n",
    "\n",
    "def run():\n",
    "  print('The area of circle:', calc_round_area(5))\n",
    "\n",
    "\n",
    "run()"
   ]
  },
  {
   "cell_type": "markdown",
   "metadata": {},
   "source": [
    "# 2.模块的搜索路径\n",
    "\n",
    "- 在设计好模块后，一般情况下，会和Python文件放在一个文件夹下。\n",
    "- 如果项目很大，模块和文件不在同一目录时，可以采用sys.path.append()方式将模块放入模块搜索路径里。"
   ]
  },
  {
   "cell_type": "code",
   "execution_count": 2,
   "metadata": {},
   "outputs": [
    {
     "data": {
      "text/plain": [
       "['c:\\\\Users\\\\12566\\\\Desktop\\\\AI\\\\AI_demo\\\\Python\\\\python_demo\\\\Python学习随便打的代码\\\\python补充\\\\python极简讲义',\n",
       " 'd:\\\\miniconda\\\\python37.zip',\n",
       " 'd:\\\\miniconda\\\\DLLs',\n",
       " 'd:\\\\miniconda\\\\lib',\n",
       " 'd:\\\\miniconda',\n",
       " '',\n",
       " 'd:\\\\miniconda\\\\lib\\\\site-packages',\n",
       " 'd:\\\\miniconda\\\\lib\\\\site-packages\\\\win32',\n",
       " 'd:\\\\miniconda\\\\lib\\\\site-packages\\\\win32\\\\lib',\n",
       " 'd:\\\\miniconda\\\\lib\\\\site-packages\\\\Pythonwin',\n",
       " 'd:\\\\miniconda\\\\lib\\\\site-packages\\\\IPython\\\\extensions',\n",
       " 'C:\\\\Users\\\\12566\\\\.ipython']"
      ]
     },
     "execution_count": 2,
     "metadata": {},
     "output_type": "execute_result"
    }
   ],
   "source": [
    "import sys\n",
    "sys.path"
   ]
  },
  {
   "cell_type": "code",
   "execution_count": 3,
   "metadata": {},
   "outputs": [
    {
     "data": {
      "text/plain": [
       "['c:\\\\Users\\\\12566\\\\Desktop\\\\AI\\\\AI_demo\\\\Python\\\\python_demo\\\\Python学习随便打的代码\\\\python补充\\\\python极简讲义',\n",
       " 'd:\\\\miniconda\\\\python37.zip',\n",
       " 'd:\\\\miniconda\\\\DLLs',\n",
       " 'd:\\\\miniconda\\\\lib',\n",
       " 'd:\\\\miniconda',\n",
       " '',\n",
       " 'd:\\\\miniconda\\\\lib\\\\site-packages',\n",
       " 'd:\\\\miniconda\\\\lib\\\\site-packages\\\\win32',\n",
       " 'd:\\\\miniconda\\\\lib\\\\site-packages\\\\win32\\\\lib',\n",
       " 'd:\\\\miniconda\\\\lib\\\\site-packages\\\\Pythonwin',\n",
       " 'd:\\\\miniconda\\\\lib\\\\site-packages\\\\IPython\\\\extensions',\n",
       " 'C:\\\\Users\\\\12566\\\\.ipython',\n",
       " 'c:\\\\Users\\\\12566\\\\Desktop\\\\AI\\\\AI_demo\\\\Python\\\\python_demo\\\\Python学习随便打的代码\\\\python补充']"
      ]
     },
     "execution_count": 3,
     "metadata": {},
     "output_type": "execute_result"
    }
   ],
   "source": [
    "home_dir = 'c:\\\\Users\\\\12566\\\\Desktop\\\\AI\\\\AI_demo\\\\Python\\\\python_demo\\\\Python学习随便打的代码\\\\python补充'  # 定义自定义模块所在路径\n",
    "sys.path.append(home_dir)  # 添加到sys.path列表中\n",
    "sys.path"
   ]
  },
  {
   "cell_type": "markdown",
   "metadata": {},
   "source": [
    "# 3.创建模块包\n",
    "\n",
    "-对于大型软件开发，会有成千上万的Python模块，为了将多个模块分门别类地存放在不同文件中， 会将多个模块打包在一起，放在不同的Python文件夹中， 于是出现了包（Package）的概念。\n",
    "- 简单来说，包就是包含若干模块的文件夹 ，一个模块可以理解成单个.py文件，包则是若干模块的集合。\n",
    "\n",
    "创建包包括以下三步。\n",
    "- (1) 创建一个文件夹(文件夹的名字最好能做到见名知意)，文件夹的名称即包的名称\n",
    "- (2) 在文件夹中创建一个__init__.py文件(类似于头文件)。通常,__init__.py文件的内容为空。其存在的意义就是要告知Python解释器，当前文件夹被标记为一个包。\n",
    "<font color='#660000'>当然，文件导入一个Package时，其实导入的时__init__.py.我们可以在__init__.py中事先批量导入我们所需要的模块(比如我们把import parameters放入__init__.py文件中)，随后我们只需要在导入的文件中进行import package</font>\n",
    "- (3)将相关的模块放置于该文件夹内"
   ]
  },
  {
   "cell_type": "code",
   "execution_count": 1,
   "metadata": {},
   "outputs": [
    {
     "data": {
      "text/plain": [
       "3.1415926"
      ]
     },
     "execution_count": 1,
     "metadata": {},
     "output_type": "execute_result"
    }
   ],
   "source": [
    "import package.parameters as pm\n",
    "pm.PI"
   ]
  },
  {
   "cell_type": "code",
   "execution_count": null,
   "metadata": {},
   "outputs": [],
   "source": []
  }
 ],
 "metadata": {
  "kernelspec": {
   "display_name": "Python 3.7.12 ('base')",
   "language": "python",
   "name": "python3"
  },
  "language_info": {
   "codemirror_mode": {
    "name": "ipython",
    "version": 3
   },
   "file_extension": ".py",
   "mimetype": "text/x-python",
   "name": "python",
   "nbconvert_exporter": "python",
   "pygments_lexer": "ipython3",
   "version": "3.7.12"
  },
  "orig_nbformat": 4,
  "vscode": {
   "interpreter": {
    "hash": "fd16a1c2e981052eaae61151b9525ae9913f1f0d16bca6b7e7be9e0f29d739d2"
   }
  }
 },
 "nbformat": 4,
 "nbformat_minor": 2
}
