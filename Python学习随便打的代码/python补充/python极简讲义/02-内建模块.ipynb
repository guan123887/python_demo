{
 "cells": [
  {
   "cell_type": "markdown",
   "metadata": {},
   "source": [
    "# 1.collections模块\n",
    "\n",
    "- collections的定位是\"高性能容量数据类型\", 其主要数据类型包括但不限于以下五类.\n",
    "* namedtuple: 生成可以使用名字来访问元素内容的元组子类,可理解为加强版的元组\n",
    "* deque:双向队列，客从另一侧高效添加和弹出元素，是列表类的有效补充\n",
    "* OrderedDict:有序字典,是字典类提供排序功能的定制版\n",
    "* defaultdict:带有默认值的字典\n",
    "* Counter:计数器,主要用来对某些数据类型(如列表、元组等)中的元素进行计数"
   ]
  },
  {
   "cell_type": "markdown",
   "metadata": {},
   "source": [
    "## 1.1 namedtuple"
   ]
  },
  {
   "cell_type": "code",
   "execution_count": 3,
   "metadata": {},
   "outputs": [
    {
     "name": "stdout",
     "output_type": "stream",
     "text": [
      "3 4\n",
      "True True\n",
      "False\n"
     ]
    }
   ],
   "source": [
    "from collections import namedtuple\n",
    "## namedtuple为了增强元组可读性,同时可以通过非数字索引形式进行调用\n",
    "\n",
    "Point = namedtuple('Point', ['x', 'y']) # 定义方法1\n",
    "# Point = namedtuple('Point', 'x y')  # 定义方法2\n",
    "# Point = namedtuple('Point', 'x, y')  # 定义方法3\n",
    "p = Point(3, 4)\n",
    "print(p.x, p.y)\n",
    "print(isinstance(p, Point), isinstance(p, tuple)) # namedtuple定义的依然是元组的实例"
   ]
  },
  {
   "cell_type": "code",
   "execution_count": 4,
   "metadata": {},
   "outputs": [
    {
     "data": {
      "text/plain": [
       "(3, 4)"
      ]
     },
     "execution_count": 4,
     "metadata": {},
     "output_type": "execute_result"
    }
   ],
   "source": [
    "# 解包\n",
    "a, b = p\n",
    "a, b"
   ]
  },
  {
   "cell_type": "markdown",
   "metadata": {},
   "source": [
    "## 1.2 deque\n",
    "\n",
    "- 使用列表存储数据时，如果按索引访问元素，即执行只读操纵，访问速度会很快.因为列表是线性存储的\n",
    "- 列表元素的插入和删除操作（写操作）很慢，特别是当列表元素数据量很大时，插入和删除操作的效率低的令人难以忍受\n",
    "- deque实现高效插入和删除，特别适用于队列和栈的操作"
   ]
  },
  {
   "cell_type": "code",
   "execution_count": 5,
   "metadata": {},
   "outputs": [
    {
     "name": "stdout",
     "output_type": "stream",
     "text": [
      "deque(['a', 'b', 'c', 1])\n",
      "deque([2, 'a', 'b', 'c', 1])\n",
      "deque([2, 'a', 'x', 'b', 'c', 1])\n",
      "deque([2, 'a', 'x', 'b', 'c'])\n",
      "deque(['a', 'x', 'b', 'c'])\n",
      "deque(['a', 'b', 'c'])\n",
      "deque(['c', 'b', 'a'])\n"
     ]
    }
   ],
   "source": [
    "from collections import deque\n",
    "dq = deque(['a', 'b', 'c'])  # 创建双向队列\n",
    "dq.append(1)  # 队列右边添加元素1\n",
    "print(dq)\n",
    "dq.appendleft(2)  # 队列左边添加元素2\n",
    "print(dq)\n",
    "dq.insert(2, 'x')  # 在指定索引位置(2)插入元素'x'\n",
    "print(dq)\n",
    "dq.pop()  # 弹出最右边的一个元素，并在队列中删除\n",
    "print(dq)\n",
    "dq.popleft()  # 获取最左边的一个元素，并在队列中删除\n",
    "print(dq)\n",
    "dq.remove('x')  # 删除指定元素x\n",
    "print(dq)\n",
    "dq.reverse()  # 队列逆序\n",
    "print(dq)"
   ]
  },
  {
   "cell_type": "markdown",
   "metadata": {},
   "source": [
    "## 1.3 OrderedDict\n",
    "- 在之前的Python版本，字典是无序的，所以很难确定关键字key的顺序\n",
    "- 如果想要保持关键字key的顺序，使用OrderedDict。有序字典的底层是通过双向链表实现，内部通过map函数对指定字典元素序列做映射，以高效存储键值对."
   ]
  },
  {
   "cell_type": "code",
   "execution_count": 6,
   "metadata": {},
   "outputs": [
    {
     "name": "stdout",
     "output_type": "stream",
     "text": [
      "OrderedDict([('a', 1), ('c', 2), ('b', 3)])\n"
     ]
    }
   ],
   "source": [
    "from collections import OrderedDict\n",
    "od = OrderedDict()  # 创建有序字典\n",
    "od['a'] = 1  # 添加字典元素\n",
    "od['c'] = 2\n",
    "od['b'] = 3\n",
    "print(od)  # 键是按照元素插入顺序进行排序"
   ]
  },
  {
   "cell_type": "code",
   "execution_count": 9,
   "metadata": {},
   "outputs": [
    {
     "name": "stdout",
     "output_type": "stream",
     "text": [
      "OrderedDict([('a', 1), ('c', 2), ('b', 3), ('apple', 4), ('banana', 5), ('cat', 6)])\n",
      "pop 1\n",
      "OrderedDict([('c', 2), ('b', 3), ('apple', 4), ('banana', 5), ('cat', 6)])\n",
      "OrderedDict([('c', 2), ('apple', 4), ('banana', 5), ('cat', 6), ('b', 3)])\n"
     ]
    }
   ],
   "source": [
    "keys = ['apple', 'banana', 'cat']\n",
    "value = [4, 5, 6]\n",
    "od.update(zip(keys, value))  #向字典中追加新字典，也就是合并两个字典\n",
    "print(od)\n",
    "print('pop', od.pop('a'))  # 将键为'a'的字典元素弹出，并从有序字典中删除它\n",
    "print(od)\n",
    "od.move_to_end('b')  # 将键为'b'的元素移到队尾\n",
    "print(od)"
   ]
  },
  {
   "cell_type": "markdown",
   "metadata": {},
   "source": [
    "# 1.4 defaultdict\n",
    "\n",
    "- 使用字典时,如果所引用的键不存在，会抛出异常，从而导致整个程序终止\n",
    "- 如果希望键不存在时能返回一个默认值，就需要defaultdict"
   ]
  },
  {
   "cell_type": "code",
   "execution_count": 10,
   "metadata": {},
   "outputs": [
    {
     "name": "stdout",
     "output_type": "stream",
     "text": [
      "abc\n",
      "N/A\n"
     ]
    }
   ],
   "source": [
    "from collections import defaultdict\n",
    "\n",
    "dd = defaultdict(lambda: 'N/A')\n",
    "\n",
    "dd['key1'] = 'abc'\n",
    "print(dd['key1'])\n",
    "print(dd['key2'])  # 不存在，返回默认值"
   ]
  },
  {
   "cell_type": "markdown",
   "metadata": {},
   "source": [
    "# 1.5 Counter\n",
    "\n",
    "- 在Python中它是collections包中提供的一个简易计数器类\n",
    "- 例如，如果我们想统计某个单词出现的频率，一种简单的办法就是将单词作为字典的\"键\",\n",
    "而将次数作为字典的值，然后用for循环轮询单词列表，没遇到同一个单词就+1"
   ]
  },
  {
   "cell_type": "code",
   "execution_count": 12,
   "metadata": {},
   "outputs": [
    {
     "name": "stdout",
     "output_type": "stream",
     "text": [
      "{'red': 2, 'blue': 2, 'green': 1, 'yellow': 1}\n"
     ]
    }
   ],
   "source": [
    "# 普通方法计数\n",
    "colors = ['red', 'blue', 'red', 'green', 'blue', 'yellow']\n",
    "result = {}\n",
    "for color in colors:\n",
    "  if result.get(color) == None:  # 如果是字典的新元素\n",
    "    result[color] = 1\n",
    "  else:\n",
    "    result[color] += 1\n",
    "print(result)"
   ]
  },
  {
   "cell_type": "code",
   "execution_count": 13,
   "metadata": {},
   "outputs": [
    {
     "name": "stdout",
     "output_type": "stream",
     "text": [
      "Counter({'red': 2, 'blue': 2, 'green': 1, 'yellow': 1})\n"
     ]
    }
   ],
   "source": [
    "# Counter计数\n",
    "from collections import Counter\n",
    "result = Counter(colors)\n",
    "print(result)"
   ]
  },
  {
   "cell_type": "code",
   "execution_count": 14,
   "metadata": {},
   "outputs": [
    {
     "name": "stdout",
     "output_type": "stream",
     "text": [
      "[('red', 2), ('blue', 2)]\n"
     ]
    }
   ],
   "source": [
    "# Counter最常用的方法时most_common(n)\n",
    "# 这里的n表示数字，他表示出现频率最高的几个对象，以列表中内嵌元组的形式出现，\n",
    "# 每个元组对象由两部分构成，前者是对象，后者是对象出现的频率\n",
    "# 如，我们想要返回出现频率最高的两个单词\n",
    "print(result.most_common(2))"
   ]
  },
  {
   "cell_type": "code",
   "execution_count": null,
   "metadata": {},
   "outputs": [],
   "source": []
  }
 ],
 "metadata": {
  "kernelspec": {
   "display_name": "Python 3.7.12 ('base')",
   "language": "python",
   "name": "python3"
  },
  "language_info": {
   "codemirror_mode": {
    "name": "ipython",
    "version": 3
   },
   "file_extension": ".py",
   "mimetype": "text/x-python",
   "name": "python",
   "nbconvert_exporter": "python",
   "pygments_lexer": "ipython3",
   "version": "3.7.12"
  },
  "orig_nbformat": 4,
  "vscode": {
   "interpreter": {
    "hash": "fd16a1c2e981052eaae61151b9525ae9913f1f0d16bca6b7e7be9e0f29d739d2"
   }
  }
 },
 "nbformat": 4,
 "nbformat_minor": 2
}
