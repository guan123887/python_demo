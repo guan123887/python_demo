{
 "cells": [
  {
   "cell_type": "markdown",
   "metadata": {},
   "source": [
    "# 1. json.dumps()与json.loads()处理字符串"
   ]
  },
  {
   "cell_type": "code",
   "execution_count": 1,
   "metadata": {},
   "outputs": [
    {
     "data": {
      "text/plain": [
       "'\\njson.dumps()  将Python对象序列化(编码)为JSON格式的字符串\\njson.loads()  将JSON格式的字符串反序列化(解码)为Python对象\\n'"
      ]
     },
     "execution_count": 1,
     "metadata": {},
     "output_type": "execute_result"
    }
   ],
   "source": [
    "\"\"\"\n",
    "json.dumps()  将Python对象序列化(编码)为JSON格式的字符串\n",
    "json.loads()  将JSON格式的字符串反序列化(解码)为Python对象\n",
    "\"\"\""
   ]
  },
  {
   "cell_type": "code",
   "execution_count": 2,
   "metadata": {},
   "outputs": [
    {
     "data": {
      "text/plain": [
       "('{\"name\": \"ACME\", \"shares\": 100, \"price\": 542.23}', str)"
      ]
     },
     "execution_count": 2,
     "metadata": {},
     "output_type": "execute_result"
    }
   ],
   "source": [
    "import json\n",
    "data = {  # 定义一个字典data\n",
    "  'name' : 'ACME',\n",
    "  'shares' : 100,\n",
    "  'price' : 542.23\n",
    "}\n",
    "json_str = json.dumps(data)  # 将字典data序列化为JSON对象\n",
    "json_str, type(json_str)"
   ]
  },
  {
   "cell_type": "code",
   "execution_count": 5,
   "metadata": {},
   "outputs": [
    {
     "data": {
      "text/plain": [
       "({'name': 'ACME', 'shares': 100, 'price': 542.23}, dict)"
      ]
     },
     "execution_count": 5,
     "metadata": {},
     "output_type": "execute_result"
    }
   ],
   "source": [
    "data1 = json.loads(json_str)  # 反序列化\n",
    "data1, type(data1)"
   ]
  },
  {
   "cell_type": "markdown",
   "metadata": {},
   "source": [
    "# 2.json.load()和json.dump()处理文件"
   ]
  },
  {
   "cell_type": "code",
   "execution_count": 6,
   "metadata": {},
   "outputs": [
    {
     "name": "stdout",
     "output_type": "stream",
     "text": [
      "{'a': 1, 'b': 2, 'c': 3, 'd': 4, 'e': 5}\n"
     ]
    }
   ],
   "source": [
    "# 使用json.dump()与json.load()来编码和解码JSON数据(dump和load后面没有s)\n",
    "import json\n",
    "# 从列表中打包\n",
    "data2 = [{'a' : 1, 'b' : 2,\n",
    "        'c' : 3, 'd' : 4,\n",
    "        'e' : 5}]\n",
    "# 将数据保存到JSON文件\n",
    "with open('result/data.json', 'w') as f:\n",
    "  json.dump(data2, f)\n",
    "\n",
    "# 将数据从JSON文件中读取出来\n",
    "with open('result/data.json', 'r') as f:\n",
    "  data3 = json.load(f)\n",
    "  print(data3[0])"
   ]
  },
  {
   "cell_type": "code",
   "execution_count": null,
   "metadata": {},
   "outputs": [],
   "source": []
  }
 ],
 "metadata": {
  "kernelspec": {
   "display_name": "Python 3.7.12 ('base')",
   "language": "python",
   "name": "python3"
  },
  "language_info": {
   "codemirror_mode": {
    "name": "ipython",
    "version": 3
   },
   "file_extension": ".py",
   "mimetype": "text/x-python",
   "name": "python",
   "nbconvert_exporter": "python",
   "pygments_lexer": "ipython3",
   "version": "3.7.12"
  },
  "orig_nbformat": 4,
  "vscode": {
   "interpreter": {
    "hash": "fd16a1c2e981052eaae61151b9525ae9913f1f0d16bca6b7e7be9e0f29d739d2"
   }
  }
 },
 "nbformat": 4,
 "nbformat_minor": 2
}
