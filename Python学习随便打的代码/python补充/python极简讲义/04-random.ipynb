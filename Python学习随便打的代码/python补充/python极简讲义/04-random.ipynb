{
 "cells": [
  {
   "cell_type": "code",
   "execution_count": 1,
   "metadata": {},
   "outputs": [
    {
     "name": "stdout",
     "output_type": "stream",
     "text": [
      "0.628730089441874\n"
     ]
    }
   ],
   "source": [
    "import random\n",
    "# 1.random.random() 用于生成01-之间的随机浮点数\n",
    "print(random.random())"
   ]
  },
  {
   "cell_type": "code",
   "execution_count": 2,
   "metadata": {},
   "outputs": [
    {
     "name": "stdout",
     "output_type": "stream",
     "text": [
      "14.012195831280568\n"
     ]
    }
   ],
   "source": [
    "# 2. random.uniform 用于生成指定范围的随机浮点数\n",
    "print(random.uniform(10, 20))"
   ]
  },
  {
   "cell_type": "code",
   "execution_count": 3,
   "metadata": {},
   "outputs": [
    {
     "name": "stdout",
     "output_type": "stream",
     "text": [
      "10.523635988509444\n",
      "10.871866775226323\n"
     ]
    }
   ],
   "source": [
    "# 3.用于设置种子，使之每次重新运行生成相同的随机数\n",
    "random.seed(123)\n",
    "print(random.uniform(10, 20))"
   ]
  },
  {
   "cell_type": "code",
   "execution_count": 4,
   "metadata": {},
   "outputs": [
    {
     "name": "stdout",
     "output_type": "stream",
     "text": [
      "53\n"
     ]
    }
   ],
   "source": [
    "# 4.random.randint()生成指定范围的随机整数\n",
    "print(random.randint(1, 100))"
   ]
  },
  {
   "cell_type": "code",
   "execution_count": 5,
   "metadata": {},
   "outputs": [
    {
     "name": "stdout",
     "output_type": "stream",
     "text": [
      "7\n"
     ]
    }
   ],
   "source": [
    "# 5.random.randrange()用于生成指定范围内按指定基数递增的\n",
    "# 集合中获得一个随机数，前两个参数代表范围下限（包含在范围内）\n",
    "# 和上限(不包含在范围内),第三个参数是递增增量\n",
    "print(random.randrange(1, 20, 3))"
   ]
  },
  {
   "cell_type": "code",
   "execution_count": 6,
   "metadata": {},
   "outputs": [
    {
     "name": "stdout",
     "output_type": "stream",
     "text": [
      "一双拖鞋\n"
     ]
    }
   ],
   "source": [
    "# 6.random.choice 从众多元素中随机选取一个，这个元素不易i当时数值，\n",
    "# 而是列表、元组、字典数据类型中的一个元素\n",
    "prize = ['一双拖鞋', '一桶油', '一瓶水']\n",
    "print(random.choice(prize))"
   ]
  },
  {
   "cell_type": "code",
   "execution_count": 7,
   "metadata": {},
   "outputs": [
    {
     "name": "stdout",
     "output_type": "stream",
     "text": [
      "[6, 6, 3]\n"
     ]
    }
   ],
   "source": [
    "# 7.random.choices() 一次性选择多个元素(有放回)\n",
    "data = (1, 2, 3, 4, 5, 6)\n",
    "print(random.choices(data, k = 3))"
   ]
  },
  {
   "cell_type": "code",
   "execution_count": 8,
   "metadata": {},
   "outputs": [
    {
     "name": "stdout",
     "output_type": "stream",
     "text": [
      "[5, 3, 6]\n"
     ]
    }
   ],
   "source": [
    "# 8.random.sample 一次性随机抽取多个不重复的元素\n",
    "print(random.sample(data, 3))"
   ]
  },
  {
   "cell_type": "code",
   "execution_count": 10,
   "metadata": {},
   "outputs": [
    {
     "name": "stdout",
     "output_type": "stream",
     "text": [
      "['张3', '张7', '张6', '张5', '张8', '张4']\n"
     ]
    }
   ],
   "source": [
    "# random.shuffle() 对序列所有元素进行打乱排序\n",
    "lst = ['张3', '张4', '张5', '张6', '张7', '张8']\n",
    "random.shuffle(lst)\n",
    "print(lst)"
   ]
  },
  {
   "cell_type": "code",
   "execution_count": null,
   "metadata": {},
   "outputs": [],
   "source": []
  }
 ],
 "metadata": {
  "kernelspec": {
   "display_name": "Python 3.7.12 ('base')",
   "language": "python",
   "name": "python3"
  },
  "language_info": {
   "codemirror_mode": {
    "name": "ipython",
    "version": 3
   },
   "file_extension": ".py",
   "mimetype": "text/x-python",
   "name": "python",
   "nbconvert_exporter": "python",
   "pygments_lexer": "ipython3",
   "version": "3.7.12"
  },
  "orig_nbformat": 4,
  "vscode": {
   "interpreter": {
    "hash": "fd16a1c2e981052eaae61151b9525ae9913f1f0d16bca6b7e7be9e0f29d739d2"
   }
  }
 },
 "nbformat": 4,
 "nbformat_minor": 2
}
