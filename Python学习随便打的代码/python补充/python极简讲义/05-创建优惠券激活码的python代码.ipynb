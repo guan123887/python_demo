{
 "cells": [
  {
   "cell_type": "code",
   "execution_count": 6,
   "metadata": {},
   "outputs": [
    {
     "name": "stdout",
     "output_type": "stream",
     "text": [
      "string.printable 0123456789abcdefghijklmnopqrstuvwxyzABCDEFGHIJKLMNOPQRSTUVWXYZ!\"#$%&'()*+,-./:;<=>?@[\\]^_`{|}~ \t\n",
      "\u000b\f\n"
     ]
    }
   ],
   "source": [
    "import string\n",
    "import random\n",
    "import json\n",
    "\n",
    "# 1.生成500个随机码\n",
    "print('string.printable', string.printable)\n",
    "coupon_dict = {\"\".join(random.choices(string.printable[:62], k = 7)) : 1 for _ in range(500)}  \n",
    "# 2.序列化本地\n",
    "with open('result/coupon.json', 'w') as f:\n",
    "  json.dump(coupon_dict, f)"
   ]
  },
  {
   "cell_type": "code",
   "execution_count": 7,
   "metadata": {},
   "outputs": [],
   "source": [
    "# 读取优惠券\n",
    "prize = ['一双拖鞋', '一桶花生油', '一瓶水']\n",
    "with open('./result/coupon.json', 'r') as file:\n",
    "  codes = json.load(file, encoding='UTF-8')\n",
    "  key = input('请输入序列号:')\n",
    "  if key in codes.keys():\n",
    "    if codes[key] == 1:\n",
    "      print('此序列号可用!\\n奖品为{0}'.format(random.choice(prize)))\n",
    "      codes[key] = 0\n",
    "    else:\n",
    "      print('抱歉,此序列号不可用!\\n奖品已被领取')\n",
    "  else:\n",
    "    print('此序列号不可用!')\n",
    "\n",
    "# 将序列号更新至json文件\n",
    "with open('./result/coupon.json', 'w', encoding='UTF-8') as file:\n",
    "  json.dump(codes, file)"
   ]
  }
 ],
 "metadata": {
  "kernelspec": {
   "display_name": "Python 3.7.12 ('base')",
   "language": "python",
   "name": "python3"
  },
  "language_info": {
   "codemirror_mode": {
    "name": "ipython",
    "version": 3
   },
   "file_extension": ".py",
   "mimetype": "text/x-python",
   "name": "python",
   "nbconvert_exporter": "python",
   "pygments_lexer": "ipython3",
   "version": "3.7.12"
  },
  "orig_nbformat": 4,
  "vscode": {
   "interpreter": {
    "hash": "fd16a1c2e981052eaae61151b9525ae9913f1f0d16bca6b7e7be9e0f29d739d2"
   }
  }
 },
 "nbformat": 4,
 "nbformat_minor": 2
}
