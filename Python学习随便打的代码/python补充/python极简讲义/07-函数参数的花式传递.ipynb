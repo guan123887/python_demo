{
 "cells": [
  {
   "cell_type": "markdown",
   "metadata": {},
   "source": [
    "# 1.关键字参数\n",
    "\n",
    "1. 函数参数分为 普通参数(位置参数) a(2, 3)  在调用函数时, 实参的顺序和类型, 要和形参的顺序和类型一一对应\n",
    "2. 关键字参数(命名参数) a(width=3, height=2)"
   ]
  },
  {
   "cell_type": "code",
   "execution_count": 1,
   "metadata": {},
   "outputs": [],
   "source": [
    "def saySomething(name, word):  # 定义一个包括两个参数的函数\n",
    "  print(name + ' : ', word)\n",
    "\n",
    "  saySomething('Zhangsan', 'Hello World')  # 正常顺序调用\n",
    "  saySomething(word='Hello World', name='Zhangsan')"
   ]
  },
  {
   "cell_type": "markdown",
   "metadata": {},
   "source": [
    "# 2.可变参数\n",
    "- 在形参前添加一个星号(*), 实现可变参数传入\n",
    "- 传递的参数被保存在元组中\n",
    "- 星号不是形参的一部分，而是用来标识args是一个可变参数的\n",
    "- args只是一个形参名，因为通常使用它(arguments)，具有可读性"
   ]
  },
  {
   "cell_type": "markdown",
   "metadata": {},
   "source": [
    "## 2.1 *args"
   ]
  },
  {
   "cell_type": "code",
   "execution_count": 2,
   "metadata": {},
   "outputs": [
    {
     "name": "stdout",
     "output_type": "stream",
     "text": [
      "位置参数是:  Zhangsan\n",
      "收集参数是:  (111, 222, 333)\n",
      "第一个收集参数是:  111\n"
     ]
    }
   ],
   "source": [
    "# 一个星号打包成数组\n",
    "def varParaFun(name, *args):\n",
    "  print('位置参数是: ', name)\n",
    "  print('收集参数是: ', args)\n",
    "  print('第一个收集参数是: ', args[0])\n",
    "\n",
    "varParaFun('Zhangsan', 111, 222, 333)"
   ]
  },
  {
   "cell_type": "markdown",
   "metadata": {},
   "source": [
    "## 2.3 **args"
   ]
  },
  {
   "cell_type": "code",
   "execution_count": 5,
   "metadata": {},
   "outputs": [
    {
     "name": "stdout",
     "output_type": "stream",
     "text": [
      "None\n",
      "{'a': 1, 'b': 3}\n",
      "姓名: Alice\n",
      "年龄: 11\n",
      "性别: 女\n"
     ]
    }
   ],
   "source": [
    "# 两个星号打包成字典,传入时为 arg1 = value1的格式\n",
    "def varFun(**x):\n",
    "  if len(x) == 0:\n",
    "    print('None')\n",
    "  else:\n",
    "    print(x)\n",
    "varFun()  # 0个参数\n",
    "varFun(a=1, b=3) # 两个参数，被存放在字典中\n",
    "# varFun(1, 3)  # 报错，必须以键值对形式传参\n",
    "\n",
    "# 还可以用字典给可变关键字参数赋值\n",
    "def some_kwargs(name, age, sex):\n",
    "  print(\"姓名:\", name)\n",
    "  print(\"年龄:\", age)\n",
    "  print(\"性别:\", sex)\n",
    "\n",
    "kwargs_dict = {'name' : 'Alice', 'age' : 11, 'sex' : '女'}\n",
    "some_kwargs(**kwargs_dict)"
   ]
  },
  {
   "cell_type": "markdown",
   "metadata": {},
   "source": [
    "# 3.默认参数\n",
    "- 函数中某些形参被事先赋予了默认值,这类带有默认值的形参"
   ]
  },
  {
   "cell_type": "code",
   "execution_count": 7,
   "metadata": {},
   "outputs": [
    {
     "name": "stdout",
     "output_type": "stream",
     "text": [
      "3 5\n",
      "1 3\n",
      "(3,)\n"
     ]
    }
   ],
   "source": [
    "def defaultFun(x, y = 3):  # 给y设定一个默认值3\n",
    "  print(x, y)\n",
    "\n",
    "defaultFun(3, 5)  # 正常调用，y被覆盖为3\n",
    "\n",
    "defaultFun(1)  # 默认调用，y采用默认值3\n",
    "\n",
    "print(defaultFun.__defaults__)  # 查看默认值"
   ]
  },
  {
   "cell_type": "code",
   "execution_count": 10,
   "metadata": {},
   "outputs": [
    {
     "name": "stdout",
     "output_type": "stream",
     "text": [
      "['END']\n",
      "['END', 'END']\n",
      "['END', 'END', 'END']\n"
     ]
    }
   ],
   "source": [
    "# 注意事项\n",
    "# 举个例子，定义一个函数，传入一个列表(列表默认是空列表)\n",
    "# 添加一个字符串'END'在返回\n",
    "def add_end(L = []):  # 默认参数L是空列表\n",
    "  L.append('END')\n",
    "  return L\n",
    "\n",
    "add_end(['Hello', 'World', 'Python'])  # 没看出问题\n",
    "# 列表L是一个可变量,每次调用时，改变L的内容，下次调用时，默认参数会改变\n",
    "print(add_end())\n",
    "print(add_end())  # 二次调用，启用默认参数\n",
    "print(add_end())\n",
    "\n",
    "# 正确使用\n",
    "def add_end(L = None):  # 默认参数设定为不可变对象None\n",
    "  if L is None:\n",
    "    L = []\n",
    "  L.append('END')\n",
    "  return L\n",
    "\n",
    "\"\"\"\n",
    "最明显的好处在于, 不可变对象一旦创建, 对象内部的数据就不能修改, 减少了由于修改数据而造成的错误。\n",
    "此外, 由于对象是不可变的, 在多任务环境下同时读取对象不需要加锁来避免多用户写数据带来的延迟,\n",
    "对读数据没有影响，在编程时, 条件允许, 尽可能将操作对象设置为不可变对象\n",
    "\"\"\""
   ]
  },
  {
   "cell_type": "markdown",
   "metadata": {},
   "source": [
    "# 4.参数序列的打包与解包\n",
    "- 利用一个星号构建一个参数元组\n",
    "- 利用两个星号构建参数字典\n",
    "- 星号还被作用在列表、元组、集合、字典及其他可迭代对象的实参上进行解包"
   ]
  },
  {
   "cell_type": "code",
   "execution_count": 12,
   "metadata": {},
   "outputs": [
    {
     "name": "stdout",
     "output_type": "stream",
     "text": [
      "<class 'tuple'>\n",
      "1 2 3 4\n",
      "<class 'int'>\n"
     ]
    }
   ],
   "source": [
    "val = 1, 2, 3, 4\n",
    "print(type(val))\n",
    "# 解包\n",
    "a, b, c, d = val\n",
    "print(a, b, c, d)\n",
    "print(type(a))"
   ]
  },
  {
   "cell_type": "code",
   "execution_count": 14,
   "metadata": {},
   "outputs": [
    {
     "name": "stdout",
     "output_type": "stream",
     "text": [
      "1 2 3 4\n"
     ]
    }
   ],
   "source": [
    "# 解包注意事项\n",
    "# 1.被解包的序列中的元素数量必须与赋值符号(=)\n",
    "# 左边元素的数量完全一样\n",
    "\n",
    "val1 = 1, 2, 3\n",
    "# a, b, c, d = val1  # 将val1解包给四个元素, EROOR\n",
    "\n",
    "# 2.支持解包操作的不仅限于元组, 也包括所有可迭代的对象, 比如列表、字典\n",
    "# 自动解包的行为是否也在函数参数传递时发生? 比如说, 如果实参为一个列表或者元组\n",
    "# 它会自动解包, 将其内的元素一一分配给不同的形参\n",
    "def fun(a, b, c, d):  # 定义带有四个参数的函数fun\n",
    "  print(a, b, c, d)\n",
    "my_list = [1, 2, 3, 4]  # 定义包含四个元素的列表\n",
    "# fun(my_list)  # 以列表为实参调用fun, ERROR\n",
    "# 解决方法\n",
    "fun(*my_list)"
   ]
  },
  {
   "cell_type": "code",
   "execution_count": 16,
   "metadata": {},
   "outputs": [
    {
     "name": "stdout",
     "output_type": "stream",
     "text": [
      "2 4 6 10\n"
     ]
    }
   ],
   "source": [
    "## 如果是字典\n",
    "d = {'a' : 2, 'b' : 4, 'c' : 6, 'd' : 10}\n",
    "fun(**d)"
   ]
  },
  {
   "cell_type": "markdown",
   "metadata": {},
   "source": [
    "# 5. 传值还是传引用\n",
    "\n",
    "- Python所有函数的参数传递, 都是基于传递对象的引用进行的\n",
    "- Python中,一切皆对象. 而传对象,实质上传的时对象的内存地址,而地址即引用\n",
    "- 对于可变对象(列表,集合,字典),传递的是地址\n",
    "- 对于不可变对象,为了维护不可变性,传递时需要创建一个实参的副本给形参"
   ]
  },
  {
   "cell_type": "markdown",
   "metadata": {},
   "source": [
    "## 5.1 不可变参数"
   ]
  },
  {
   "cell_type": "markdown",
   "metadata": {},
   "source": [
    "#"
   ]
  },
  {
   "cell_type": "code",
   "execution_count": 18,
   "metadata": {},
   "outputs": [
    {
     "name": "stdout",
     "output_type": "stream",
     "text": [
      "在函数外, 实参a的地址为: 140725088827472\n",
      "在函数中,形参x的地址为: 140725088827472\n",
      "在函数中, 形参x的值为: 3\n",
      "在函数中, x的值更新为:  4\n",
      "在函数中, x的地址更新为:  140725088827504\n",
      "在调用函数之后, 实参a的值为:  3\n"
     ]
    }
   ],
   "source": [
    "def numFunc(x):\n",
    "  print('在函数中,形参x的地址为:', id(x))\n",
    "  print('在函数中, 形参x的值为:', x)\n",
    "\n",
    "  x += 1\n",
    "  print(\"在函数中, x的值更新为: \", x)\n",
    "  print('在函数中, x的地址更新为: ', id(x))\n",
    "\n",
    "a = 3\n",
    "print('在函数外, 实参a的地址为:', id(a))  # 数值型对象不可变, 所以新的值地址变了\n",
    "numFunc(a)\n",
    "print('在调用函数之后, 实参a的值为: ', a)"
   ]
  },
  {
   "cell_type": "code",
   "execution_count": 20,
   "metadata": {},
   "outputs": [
    {
     "name": "stdout",
     "output_type": "stream",
     "text": [
      "修改之前字符串为s =  hhhh\n",
      "在函数中, s的地址更新为:  2937088002352\n",
      "修改之后字符串s =  xxxx\n",
      "在函数中, 修改s的地址更新为:  2937077935152\n"
     ]
    }
   ],
   "source": [
    "b = 'hhhh'\n",
    "def strFun(s):\n",
    "  print('修改之前字符串为s = ', s)\n",
    "  print('在函数中, s的地址更新为: ', id(s))\n",
    "  s = 'xxxx'\n",
    "  print('修改之后字符串s = ', s)\n",
    "  print('在函数中, 修改s的地址更新为: ', id(s))\n",
    "\n",
    "strFun(b)\n",
    "print(b)  # 但是b没有被改变,说明形参为创建的副本"
   ]
  },
  {
   "cell_type": "code",
   "execution_count": 21,
   "metadata": {},
   "outputs": [
    {
     "name": "stdout",
     "output_type": "stream",
     "text": [
      "(111, 222, 333, 333, 444)\n",
      "(111, 222, 333)\n"
     ]
    }
   ],
   "source": [
    "tuple1 = (111, 222, 333)\n",
    "def foo(a):\n",
    "  a += (333, 444)\n",
    "  return a\n",
    "\n",
    "print(foo(tuple1))\n",
    "print(tuple1)"
   ]
  },
  {
   "cell_type": "markdown",
   "metadata": {},
   "source": [
    "## 5.2 可变参数"
   ]
  },
  {
   "cell_type": "code",
   "execution_count": 22,
   "metadata": {},
   "outputs": [
    {
     "name": "stdout",
     "output_type": "stream",
     "text": [
      "[111, 222, 333, '可变对象']\n",
      "[111, 222, 333, '可变对象']\n"
     ]
    }
   ],
   "source": [
    "def foo(a):\n",
    "  a.append('可变对象')\n",
    "  return a\n",
    "list1 = [111, 222, 333]\n",
    "print(foo(list1))\n",
    "\n",
    "print(list1)  # 可以看出实参和形参共用同一块内存空间"
   ]
  },
  {
   "cell_type": "code",
   "execution_count": null,
   "metadata": {},
   "outputs": [],
   "source": []
  }
 ],
 "metadata": {
  "kernelspec": {
   "display_name": "Python 3.7.12 ('base')",
   "language": "python",
   "name": "python3"
  },
  "language_info": {
   "codemirror_mode": {
    "name": "ipython",
    "version": 3
   },
   "file_extension": ".py",
   "mimetype": "text/x-python",
   "name": "python",
   "nbconvert_exporter": "python",
   "pygments_lexer": "ipython3",
   "version": "3.7.12"
  },
  "orig_nbformat": 4,
  "vscode": {
   "interpreter": {
    "hash": "fd16a1c2e981052eaae61151b9525ae9913f1f0d16bca6b7e7be9e0f29d739d2"
   }
  }
 },
 "nbformat": 4,
 "nbformat_minor": 2
}
