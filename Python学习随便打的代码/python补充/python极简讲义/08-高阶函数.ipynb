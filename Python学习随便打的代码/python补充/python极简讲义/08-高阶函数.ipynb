{
 "cells": [
  {
   "cell_type": "code",
   "execution_count": 1,
   "metadata": {},
   "outputs": [],
   "source": [
    "# 函数式编程一个显著的特征就是允许把函数本身作为参数传入另一个函数(对象),还允许返回一个函数(对象)."
   ]
  },
  {
   "cell_type": "markdown",
   "metadata": {},
   "source": [
    "# 1.lambda表达式"
   ]
  },
  {
   "cell_type": "code",
   "execution_count": 3,
   "metadata": {},
   "outputs": [
    {
     "name": "stdout",
     "output_type": "stream",
     "text": [
      "24\n",
      "24\n"
     ]
    }
   ],
   "source": [
    "# 1.lambda表达式-匿名函数 用后即销毁\n",
    "# lambda 参数:参数操作\n",
    "\n",
    "## 普通函数\n",
    "def add(x, y):\n",
    "  return x + y\n",
    "print(add(5, 19))\n",
    "\n",
    "## lambda函数\n",
    "new_add = lambda x, y : x + y\n",
    "print(new_add(5, 19))\n",
    "\n",
    "\"\"\"\n",
    "lambda优势:\n",
    "1) 在执行某些Python脚本时,使用lambda表达式可以省略函数定义过程\n",
    "2) 简化代码,增强程序的可读性\n",
    "3) 不用考虑函数命名, 因此不用担心函数名冲突\n",
    "\n",
    "lambda限制:\n",
    "只能有一个表达式,因此无须通过return返回计算结果,\n",
    "表达式的结果就默认返回值\n",
    "\"\"\""
   ]
  },
  {
   "cell_type": "markdown",
   "metadata": {},
   "source": [
    "# 2.Filter函数\n",
    "\n",
    "- 作用于可迭代的数据序列,根据他的第一个参数(一个制定规则的函数对象)可筛选出符合条件的元素。\n",
    "\n",
    "- 原型\n",
    "filter(function, iterable)\n",
    "  - 参数:\n",
    "    - fucntion -- 判断函数\n",
    "    - iterable -- 可迭代对象\n",
    "  - 返回值:\n",
    "    - 返回一个迭代器对象"
   ]
  },
  {
   "cell_type": "code",
   "execution_count": 4,
   "metadata": {},
   "outputs": [
    {
     "name": "stdout",
     "output_type": "stream",
     "text": [
      "['e', 'o']\n",
      "[18, 9, 24, 12, 27]\n"
     ]
    }
   ],
   "source": [
    "def fun(variable):  # 过滤非元音字母\n",
    "  letters = ['a', 'e', 'i', 'o', 'u']\n",
    "  if(variable in letters):\n",
    "    return True\n",
    "  else:\n",
    "    return False\n",
    "\n",
    "sequence = ['g', 'f', 'e', 'j', 'k', 's', 'p', 'k', 'o']\n",
    "filtered = filter(fun, sequence)\n",
    "print(list(filtered))  # filter函数返回迭代器对象,需要list转成列表使用\n",
    "\n",
    "# 如果函数比较简单，可以用lambda表达式描述\n",
    "a_List = [2, 18, 9, 22, 17, 24, 8, 12, 27]\n",
    "data = filter(lambda x:x%3==0, a_List)\n",
    "print(list(data))"
   ]
  },
  {
   "cell_type": "markdown",
   "metadata": {},
   "source": [
    "# 3.map函数\n",
    "\n",
    "- map函数第一个参数是filter函数\n",
    "- 根据第一个参数指定的规则将一个可迭代对象转换为另一个序列\n",
    "- 由于原序列中的元素和被转换序列中的元素一一对应,成为映射(map)\n",
    "\n",
    "- 原型\n",
    "map(function, iterable, ...)\n",
    "  - 参数:\n",
    "    - function -- 映射函数\n",
    "    - iterable -- 一个或多个可迭代的序列\n",
    "  - 返回值:\n",
    "    - Python3.x 返回迭代器\n",
    "\n",
    "- 比起列表推导式，map实现相同功能的前提下效率要高很多\n"
   ]
  },
  {
   "cell_type": "code",
   "execution_count": 6,
   "metadata": {},
   "outputs": [
    {
     "name": "stdout",
     "output_type": "stream",
     "text": [
      "[5, 6, 6, 6]\n",
      "[5, 37, 19, 43, 35, 49, 17, 25]\n"
     ]
    }
   ],
   "source": [
    "# 一个序列时(一元操作)\n",
    "def myfunc(n):\n",
    "  return len(n)\n",
    "\n",
    "word_len = map(myfunc, ('apple', 'banana', 'cherry', 'carmel'))\n",
    "print(list(word_len))\n",
    "\n",
    "# 如果函数不复杂\n",
    "a_List = [2, 18, 9, 21, 17, 24, 8, 12]\n",
    "my_map = map(lambda x : x * 2 + 1, a_List)\n",
    "print(list(my_map))"
   ]
  },
  {
   "cell_type": "code",
   "execution_count": 8,
   "metadata": {},
   "outputs": [
    {
     "name": "stdout",
     "output_type": "stream",
     "text": [
      "['appleorange', 'bananalemon', 'I lovecarmel']\n",
      "[5, 7, 9]\n"
     ]
    }
   ],
   "source": [
    "# 二元操作\n",
    "def myfunc(a, b):\n",
    "  return a + b\n",
    "\n",
    "str_cat = map(myfunc, ('apple', 'banana', 'I love'), ('orange', 'lemon', 'carmel'))\n",
    "print(list(str_cat))\n",
    "\n",
    "\n",
    "num_add = map(myfunc, [1, 2, 3], [4, 5, 6])\n",
    "print(list(num_add))"
   ]
  },
  {
   "cell_type": "markdown",
   "metadata": {},
   "source": [
    "# 4.reduce()函数\n",
    "\n",
    "- 对参数序列中的元素按照一定的规则进行‘规约’，从而将数据减少到只有\n",
    "一个累积的数值\n",
    "\n",
    "- 原型\n",
    "reduce(function, iterable [, initializer])\n",
    "  - 参数:\n",
    "    - function -- 实现特定规约功能的函数，它是一个二元函数\n",
    "    - iterable -- 可迭代数据对象\n",
    "    - initilizer -- 可选项,规约操作时可能用到的初始参数\n",
    "  - 返回值\n",
    "    - 返回函数计算结果"
   ]
  },
  {
   "cell_type": "code",
   "execution_count": 11,
   "metadata": {},
   "outputs": [
    {
     "name": "stdout",
     "output_type": "stream",
     "text": [
      "6\n"
     ]
    }
   ],
   "source": [
    "from functools import reduce\n",
    "reduce(lambda x, y : x + y, [1,2,3,4,5])\n",
    "\n",
    "a_list = [1, 3, 5, 6, 2]\n",
    "print(reduce(lambda a,b : a if a>b else b,a_list)) #求最大值"
   ]
  },
  {
   "cell_type": "markdown",
   "metadata": {},
   "source": [
    "# 5.sorted函数"
   ]
  },
  {
   "cell_type": "code",
   "execution_count": 14,
   "metadata": {},
   "outputs": [
    {
     "name": "stdout",
     "output_type": "stream",
     "text": [
      "[-30, -20, 10, 60, 70]\n",
      "[70, 60, 10, -20, -30]\n"
     ]
    }
   ],
   "source": [
    "print(sorted([70, 60, -20, 10, -30]))  # 升序排序\n",
    "print(sorted([70, 60, -20, 10, -30], reverse=True))  # 降序排序"
   ]
  },
  {
   "cell_type": "code",
   "execution_count": 15,
   "metadata": {},
   "outputs": [
    {
     "name": "stdout",
     "output_type": "stream",
     "text": [
      "[70, 60, -30, -20, 10]\n"
     ]
    }
   ],
   "source": [
    "# 根据元素绝对值进行排序 (key接收函数名) 返回一个新列表(原来列表没有变化)\n",
    "print(sorted([70, 60, -20, 10, -30], key=abs, reverse=True))"
   ]
  },
  {
   "cell_type": "code",
   "execution_count": null,
   "metadata": {},
   "outputs": [],
   "source": []
  }
 ],
 "metadata": {
  "kernelspec": {
   "display_name": "Python 3.7.12 ('base')",
   "language": "python",
   "name": "python3"
  },
  "language_info": {
   "codemirror_mode": {
    "name": "ipython",
    "version": 3
   },
   "file_extension": ".py",
   "mimetype": "text/x-python",
   "name": "python",
   "nbconvert_exporter": "python",
   "pygments_lexer": "ipython3",
   "version": "3.7.12"
  },
  "orig_nbformat": 4,
  "vscode": {
   "interpreter": {
    "hash": "fd16a1c2e981052eaae61151b9525ae9913f1f0d16bca6b7e7be9e0f29d739d2"
   }
  }
 },
 "nbformat": 4,
 "nbformat_minor": 2
}
