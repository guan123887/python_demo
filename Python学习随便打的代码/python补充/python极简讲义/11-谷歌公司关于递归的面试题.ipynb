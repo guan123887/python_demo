{
 "cells": [
  {
   "cell_type": "code",
   "execution_count": 1,
   "metadata": {},
   "outputs": [
    {
     "name": "stdout",
     "output_type": "stream",
     "text": [
      "10946\n"
     ]
    }
   ],
   "source": [
    "\"\"\"\n",
    "游戏:有两个人,第一个人先从1和2中挑一个数字,第二个人可以在对方的基础上选择加1或者加2\n",
    "然后又轮到第一个人,俺也可以选择加1或者加2,之后再把选择权交给对方,就这样双方交替地选择\n",
    "1或者加2,谁先加到20,谁就赢了.\n",
    "(1)对于这个游戏,你用什么策略保证一定能赢？\n",
    "\"\"\"\n",
    "# 只需要第一个人抢到2，就赢定了,无论对方选择加1或者加2，都可以让数值加到5,然后8->11->14->17->20\n",
    "\n",
    "\"\"\"\n",
    "(2)按照上述方法,在不考虑谁输谁赢的情况下,从开始(以1或2为起点)加到20,有多少中不同的递加过程?\n",
    "比如1,4,7,10,12,15,18,20算一种; 2,5,8,11,14,17,20又算一种.那么一共会有多少种这样的过程嘛?\n",
    "\"\"\"\n",
    "def calprocess(n):\n",
    "  if n == 1:\n",
    "    return 1\n",
    "  elif n == 2:\n",
    "    return 2\n",
    "  else:\n",
    "    return calprocess(n-1) + calprocess(n-2)\n",
    "print(calprocess(20))\n"
   ]
  },
  {
   "cell_type": "code",
   "execution_count": null,
   "metadata": {},
   "outputs": [],
   "source": []
  }
 ],
 "metadata": {
  "kernelspec": {
   "display_name": "Python 3.7.12 ('base')",
   "language": "python",
   "name": "python3"
  },
  "language_info": {
   "codemirror_mode": {
    "name": "ipython",
    "version": 3
   },
   "file_extension": ".py",
   "mimetype": "text/x-python",
   "name": "python",
   "nbconvert_exporter": "python",
   "pygments_lexer": "ipython3",
   "version": "3.7.12"
  },
  "orig_nbformat": 4,
  "vscode": {
   "interpreter": {
    "hash": "fd16a1c2e981052eaae61151b9525ae9913f1f0d16bca6b7e7be9e0f29d739d2"
   }
  }
 },
 "nbformat": 4,
 "nbformat_minor": 2
}
