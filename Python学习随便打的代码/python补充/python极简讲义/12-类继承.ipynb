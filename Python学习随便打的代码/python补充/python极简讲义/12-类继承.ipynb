{
 "cells": [
  {
   "cell_type": "code",
   "execution_count": 6,
   "metadata": {},
   "outputs": [
    {
     "name": "stdout",
     "output_type": "stream",
     "text": [
      "Alice 说: 我 11 岁了,我在读 5 年级\n",
      "140\n"
     ]
    }
   ],
   "source": [
    "class Person:\n",
    "  height = 140 # 定义类的数据成员（公共属性）\n",
    "  # 定义构造方法\n",
    "  def __init__(self, name, age, weight) -> None:\n",
    "    self.name = name  # 定义对象的数据成员属性\n",
    "    self.age = age\n",
    "    # 定义私有属性, 私有属性在类外部无法直接访问\n",
    "    self.__weight = weight\n",
    "  def speak(self):\n",
    "    print(\"%s 说: 我 %d 岁,我体重为 %d kg,身高为 %d cm\"%(self.name, \n",
    "    self.age, self.__weight, Person.height))\n",
    "\n",
    "# 单一继承示范\n",
    "class Student(Person):\n",
    "  grad = ''\n",
    "  def __init__(self, name, age, weight, grad) -> None:\n",
    "    # Person.__init__(self,name, age, weight)\n",
    "    super().__init__(name, age, weight) # 调用父类的构造方法，初始化父辈数据成员\n",
    "    self.grad = grad\n",
    "  \n",
    "  # 覆写父类的同名方法\n",
    "  def speak(self):\n",
    "    print(\"%s 说: 我 %d 岁了,我在读 %d 年级\"%(self.name, self.age, self.grad))\n",
    "    print('height:', super().height)\n",
    "stu = Student('Alice',11,40,5)\n",
    "stu.speak()"
   ]
  },
  {
   "cell_type": "code",
   "execution_count": null,
   "metadata": {},
   "outputs": [],
   "source": []
  }
 ],
 "metadata": {
  "kernelspec": {
   "display_name": "Python 3.7.12 ('base')",
   "language": "python",
   "name": "python3"
  },
  "language_info": {
   "codemirror_mode": {
    "name": "ipython",
    "version": 3
   },
   "file_extension": ".py",
   "mimetype": "text/x-python",
   "name": "python",
   "nbconvert_exporter": "python",
   "pygments_lexer": "ipython3",
   "version": "3.7.12"
  },
  "orig_nbformat": 4,
  "vscode": {
   "interpreter": {
    "hash": "fd16a1c2e981052eaae61151b9525ae9913f1f0d16bca6b7e7be9e0f29d739d2"
   }
  }
 },
 "nbformat": 4,
 "nbformat_minor": 2
}
