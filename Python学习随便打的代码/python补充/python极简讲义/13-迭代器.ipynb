{
 "cells": [
  {
   "cell_type": "code",
   "execution_count": 2,
   "metadata": {},
   "outputs": [
    {
     "name": "stdout",
     "output_type": "stream",
     "text": [
      "[1, 1, 2, 3, 5, 8, 13, 21, 34, 55]\n",
      "[89, 144, 233, 377, 610, 987, 1597, 2584, 4181, 6765]\n"
     ]
    }
   ],
   "source": [
    "# 所有的迭代器在设计时都会在类中实现两个方法:\n",
    "# __iter__()和__next__()\n",
    "# iter()方法用于返回一个迭代器对象, __next__()方法用于返回迭代对象内部的下一个元素值\n",
    "\n",
    "from itertools import islice\n",
    "\n",
    "class Fibonacci:\n",
    "  def __init__(self) -> None:\n",
    "    self.previous, self.current = 0, 1\n",
    "\n",
    "  def __iter__(self):\n",
    "    return self\n",
    "\n",
    "  def __next__(self):\n",
    "    value = self.current\n",
    "    self.previous, self.current = self.current, self.current + self.previous\n",
    "    return value\n",
    "\n",
    "f = Fibonacci()\n",
    "a = list(islice(f, 0, 10))  # [1, 1, 2, 3, 5, 8, 13, 21, 34, 55]\n",
    "print(a) # \n",
    "b = list(islice(f, 0, 10))  # [89, 144, 233, 377, 610, 987, 1597, 2584, 4181, 6765]\n",
    "print(b)  #"
   ]
  },
  {
   "cell_type": "code",
   "execution_count": 16,
   "metadata": {},
   "outputs": [
    {
     "name": "stdout",
     "output_type": "stream",
     "text": [
      "(1, 3)\n",
      "(1, 3)\n"
     ]
    },
    {
     "data": {
      "text/plain": [
       "array([[1, 2, 3],\n",
       "       [4, 5, 6]])"
      ]
     },
     "execution_count": 16,
     "metadata": {},
     "output_type": "execute_result"
    }
   ],
   "source": [
    "import numpy as np\n",
    "a = np.array([[1,2,3]])\n",
    "print(a.shape)\n",
    "b = np.array([[4,5,6]])\n",
    "print(b.shape)\n",
    "np.concatenate((a,b),axis=0)"
   ]
  },
  {
   "cell_type": "code",
   "execution_count": null,
   "metadata": {},
   "outputs": [],
   "source": []
  }
 ],
 "metadata": {
  "kernelspec": {
   "display_name": "Python 3.7.12 ('base')",
   "language": "python",
   "name": "python3"
  },
  "language_info": {
   "codemirror_mode": {
    "name": "ipython",
    "version": 3
   },
   "file_extension": ".py",
   "mimetype": "text/x-python",
   "name": "python",
   "nbconvert_exporter": "python",
   "pygments_lexer": "ipython3",
   "version": "3.7.12"
  },
  "orig_nbformat": 4,
  "vscode": {
   "interpreter": {
    "hash": "fd16a1c2e981052eaae61151b9525ae9913f1f0d16bca6b7e7be9e0f29d739d2"
   }
  }
 },
 "nbformat": 4,
 "nbformat_minor": 2
}
