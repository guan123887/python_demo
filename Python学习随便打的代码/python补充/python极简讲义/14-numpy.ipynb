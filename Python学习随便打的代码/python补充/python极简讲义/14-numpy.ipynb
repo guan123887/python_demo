{
 "cells": [
  {
   "cell_type": "markdown",
   "metadata": {},
   "source": [
    "# 1.向量运算"
   ]
  },
  {
   "cell_type": "code",
   "execution_count": 3,
   "metadata": {},
   "outputs": [
    {
     "data": {
      "text/plain": [
       "[11, 13, 15, 17, 19, 21, 23, 25, 27, 29]"
      ]
     },
     "execution_count": 3,
     "metadata": {},
     "output_type": "execute_result"
    }
   ],
   "source": [
    "list1 = list(range(10))\n",
    "list2 = list(range(11,21))\n",
    "[item1 + item2 for item1, item2 in zip(list1, list2)]"
   ]
  },
  {
   "cell_type": "code",
   "execution_count": 4,
   "metadata": {},
   "outputs": [
    {
     "name": "stdout",
     "output_type": "stream",
     "text": [
      "[11 13 15 17 19 21 23 25 27 29]\n"
     ]
    }
   ],
   "source": [
    "# numpy运算\n",
    "import numpy as np\n",
    "list1_arr = np.array(list1)\n",
    "list2_arr = np.array(list2)\n",
    "list_sum = list1_arr + list2_arr\n",
    "print(list_sum)"
   ]
  },
  {
   "cell_type": "markdown",
   "metadata": {},
   "source": [
    "# 2.矩阵运算"
   ]
  },
  {
   "cell_type": "code",
   "execution_count": 6,
   "metadata": {},
   "outputs": [
    {
     "name": "stdout",
     "output_type": "stream",
     "text": [
      "[[1. 2.]\n",
      " [3. 4.]]\n",
      "[[1. 2.]\n",
      " [3. 4.]]\n",
      "(5, 5)\n",
      "(5, 5)\n"
     ]
    }
   ],
   "source": [
    "a = np.array([[1, 2],[3, 4]])\n",
    "b = np.ones((2, 2))\n",
    "# 逐元素相乘\n",
    "print(a * b)\n",
    "print(np.multiply(a, b))\n",
    "# 点乘 m,n dot n,1 -> m, 1\n",
    "c = np.arange(10).reshape(5, 2)\n",
    "d = np.arange(10).reshape(2, 5)\n",
    "print(np.dot(c, d).shape)\n",
    "print((c@d).shape)"
   ]
  },
  {
   "cell_type": "markdown",
   "metadata": {},
   "source": [
    "# 3.matrix相乘"
   ]
  },
  {
   "cell_type": "code",
   "execution_count": 7,
   "metadata": {},
   "outputs": [
    {
     "name": "stdout",
     "output_type": "stream",
     "text": [
      "(5, 5)\n"
     ]
    }
   ],
   "source": [
    "c = np.mat(c)\n",
    "d = np.mat(d)\n",
    "print((c*d).shape)  # 此时直接相乘为点乘"
   ]
  },
  {
   "cell_type": "code",
   "execution_count": 11,
   "metadata": {},
   "outputs": [
    {
     "name": "stdout",
     "output_type": "stream",
     "text": [
      "Origin: [[0.65870811 0.49872814 0.88934888]\n",
      " [0.75761695 0.49808957 0.94863934]\n",
      " [0.08203186 0.13862723 0.03314808]]\n",
      "Inv: [[-15.12449288  14.04069958   3.96375408]\n",
      " [  6.93184338  -6.72337309   6.43262267]\n",
      " [  8.43934347  -6.62910514  -6.54308678]]\n",
      "Transpose: [[0.65870811 0.75761695 0.08203186]\n",
      " [0.49872814 0.49808957 0.13862723]\n",
      " [0.88934888 0.94863934 0.03314808]]\n",
      "Numpy: [[0.65870811 0.49872814 0.88934888]\n",
      " [0.75761695 0.49808957 0.94863934]\n",
      " [0.08203186 0.13862723 0.03314808]]\n"
     ]
    }
   ],
   "source": [
    "e = np.mat(np.random.random((3, 3))) # 生成3*3随机数矩阵\n",
    "print('Origin:', e)\n",
    "print('Inv:', e.I)  # 逆矩阵\n",
    "print('Transpose:', e.T)  # 转置矩阵\n",
    "print('Numpy:', e.A)  # 矩阵对应的二维数组"
   ]
  },
  {
   "cell_type": "code",
   "execution_count": null,
   "metadata": {},
   "outputs": [],
   "source": []
  }
 ],
 "metadata": {
  "kernelspec": {
   "display_name": "Python 3.7.12 ('base')",
   "language": "python",
   "name": "python3"
  },
  "language_info": {
   "codemirror_mode": {
    "name": "ipython",
    "version": 3
   },
   "file_extension": ".py",
   "mimetype": "text/x-python",
   "name": "python",
   "nbconvert_exporter": "python",
   "pygments_lexer": "ipython3",
   "version": "3.7.12"
  },
  "orig_nbformat": 4,
  "vscode": {
   "interpreter": {
    "hash": "fd16a1c2e981052eaae61151b9525ae9913f1f0d16bca6b7e7be9e0f29d739d2"
   }
  }
 },
 "nbformat": 4,
 "nbformat_minor": 2
}
