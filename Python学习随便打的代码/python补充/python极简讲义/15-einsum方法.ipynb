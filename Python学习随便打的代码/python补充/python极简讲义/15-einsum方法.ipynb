{
 "cells": [
  {
   "cell_type": "markdown",
   "metadata": {},
   "source": [
    "# 1.einsum()方法  -爱因斯坦求和约定\n",
    "\n",
    "- 参数\n",
    "  - 参数1:格式字符串\n",
    "    - 格式字符串规定:\n",
    "    1. 不同的输入变量格式字符之间要用逗号分隔开,且输入格式字符的数量\n",
    "    要与参数运算的变量数量相匹配.例如,图6-6所示的运算中共输入三个参数\n",
    "    arg0, arg1和arg2,那么输入格式字符串中就需要有三个用逗号隔开的格式\n",
    "    字符\n",
    "    2. 输入格式字符和输出格式字符要用箭头分隔开\n",
    "    3. 输入格式字符和输出格式字符都是一系列常见字符(如ASCII码)\n",
    "    4. 格式字符串中的字符数(字符串长度)和张量的维数相对应.如字符串'ij'\n",
    "    表示二维张量,'ijk'表示三维张量.例如,有如下指令.\n",
    "    \n",
    "    result = np.einsum('ijk,ijl->kl',a,b)\n",
    "    a是一个三维矩阵,因为格式字符串'ijk'是由三个字符构成的.类似地，输入张量b\n",
    "    也是一个三维矩阵,理由同上.计算结果是一个二维张量，因为箭头后面格式字符串\n",
    "    'kl'由两个字符构成"
   ]
  },
  {
   "cell_type": "code",
   "execution_count": 1,
   "metadata": {},
   "outputs": [
    {
     "name": "stdout",
     "output_type": "stream",
     "text": [
      "[0 1 2 3 4 5 6 7 8 9]\n",
      "45\n"
     ]
    }
   ],
   "source": [
    "import numpy as np\n",
    "arr =np.arange(10)\n",
    "print(arr)\n",
    "\n",
    "# 求和\n",
    "# 'i->'表示一个一维张量(箭头前面的字符长度为1)\n",
    "# 箭头后面没有说明维度消失了，变成了一个标量\n",
    "\n",
    "sum1 = np.einsum('i->', arr) # ASCII码完全不重要，可以写成a->,b->等等\n",
    "print(sum1)"
   ]
  },
  {
   "cell_type": "code",
   "execution_count": 5,
   "metadata": {},
   "outputs": [
    {
     "name": "stdout",
     "output_type": "stream",
     "text": [
      "arr2:  [[ 0  1  2  3  4]\n",
      " [ 5  6  7  8  9]\n",
      " [10 11 12 13 14]\n",
      " [15 16 17 18 19]]\n"
     ]
    },
    {
     "data": {
      "text/plain": [
       "array([30, 34, 38, 42, 46])"
      ]
     },
     "execution_count": 5,
     "metadata": {},
     "output_type": "execute_result"
    }
   ],
   "source": [
    "# 按列求和\n",
    "arr2 = np.arange(20).reshape(4, 5)\n",
    "print('arr2: ', arr2)\n",
    "sum_col = np.einsum('ij->j', arr2)  # i表示行,j表示列\n",
    "sum_col"
   ]
  },
  {
   "cell_type": "code",
   "execution_count": 3,
   "metadata": {},
   "outputs": [
    {
     "data": {
      "text/plain": [
       "array([10, 35, 60, 85])"
      ]
     },
     "execution_count": 3,
     "metadata": {},
     "output_type": "execute_result"
    }
   ],
   "source": [
    "# 按行求和\n",
    "sum_row = np.einsum('ij->i', arr2)\n",
    "sum_row"
   ]
  },
  {
   "cell_type": "code",
   "execution_count": 6,
   "metadata": {},
   "outputs": [
    {
     "name": "stdout",
     "output_type": "stream",
     "text": [
      "[[ 2  3  1]\n",
      " [ 4  6  2]\n",
      " [10 15  5]]\n",
      "[[ 2  3  1]\n",
      " [ 4  6  2]\n",
      " [10 15  5]]\n"
     ]
    }
   ],
   "source": [
    "# 'ijk->jk'  三维变为二维, 按照第一轴求和\n",
    "# 如果待处理的张量不止三维,将多个维度格式字符串用省略号\n",
    "# 代替,以表示剩下的所有维度\n",
    "# result = np.einsum('i...->...', arr)\n",
    "# 矩阵乘法-点乘\n",
    "A = np.array([[1, 1, 1],\n",
    "  [2, 2, 2],\n",
    "  [5, 5, 5]])\n",
    "\n",
    "B = np.array([[0, 1, 0],\n",
    "  [1, 1, 0],\n",
    "  [1, 1, 1]])\n",
    "\n",
    "print(A@B)  # 等价于np.dot(A, B)\n",
    "print(np.einsum('ij,jk->ik', A, B))"
   ]
  },
  {
   "cell_type": "code",
   "execution_count": 9,
   "metadata": {},
   "outputs": [
    {
     "name": "stdout",
     "output_type": "stream",
     "text": [
      "点乘: [[1. 2.]\n",
      " [3. 4.]]\n",
      "内积: 10.0\n"
     ]
    }
   ],
   "source": [
    "# 向量点乘操作(对应元素乘积) a*b, np.multiply(a,b)\n",
    "a = np.array([[1,2],[3,4]])\n",
    "b = np.ones(shape=(2,2))\n",
    "print('点乘:', np.einsum('ij,ij->ij',a,b)) # 向量点乘\n",
    "print('内积:', np.einsum('ij,ij->',a,b))  # 内积"
   ]
  },
  {
   "cell_type": "code",
   "execution_count": 11,
   "metadata": {},
   "outputs": [
    {
     "name": "stdout",
     "output_type": "stream",
     "text": [
      "110\n",
      "[[11 21 31 41]\n",
      " [12 22 32 42]\n",
      " [13 23 33 43]\n",
      " [14 24 34 44]]\n"
     ]
    }
   ],
   "source": [
    "# 求对角线 np.diag(arr)\n",
    "AA = np.array([[11, 12, 13, 14],\n",
    "  [21, 22, 23, 24],\n",
    "  [31, 32, 33, 34],\n",
    "  [41, 42, 43, 44]])\n",
    "\n",
    "print(np.einsum('ii->', AA))  # 求矩阵的迹(对角线元素之和)\n",
    "print(np.einsum('ij->ji',AA)) # 矩阵转置  也可以np.transpose实现"
   ]
  },
  {
   "cell_type": "code",
   "execution_count": null,
   "metadata": {},
   "outputs": [],
   "source": []
  }
 ],
 "metadata": {
  "kernelspec": {
   "display_name": "Python 3.7.12 ('base')",
   "language": "python",
   "name": "python3"
  },
  "language_info": {
   "codemirror_mode": {
    "name": "ipython",
    "version": 3
   },
   "file_extension": ".py",
   "mimetype": "text/x-python",
   "name": "python",
   "nbconvert_exporter": "python",
   "pygments_lexer": "ipython3",
   "version": "3.7.12"
  },
  "orig_nbformat": 4,
  "vscode": {
   "interpreter": {
    "hash": "fd16a1c2e981052eaae61151b9525ae9913f1f0d16bca6b7e7be9e0f29d739d2"
   }
  }
 },
 "nbformat": 4,
 "nbformat_minor": 2
}
