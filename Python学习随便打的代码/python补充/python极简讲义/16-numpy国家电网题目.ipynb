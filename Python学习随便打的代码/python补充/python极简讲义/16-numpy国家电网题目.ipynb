{
 "cells": [
  {
   "cell_type": "markdown",
   "metadata": {},
   "source": [
    "\"Grid, solar, and EV data from three homes.csv\"文件保存了美国NY、Austin及Boulder三个城市的电网、太阳能及电动汽车数据，该数据集合中共有9442条记录，部分记录不完整.\n",
    "请编程实现:按照NY、Austin及Boulder三个城市,将数据划分成三个文件,并以csv格式存储.其中分割后的文件中的数据顺序、结构和表头与原文件保持一致,且每个文件的每一列都为原文件的DateTime列,NY数据保存为\"1-NY.csv\",Austin数据保存为'1-Austin.csv',Boulder数据保存为'1-Boulder.csv'.(不允许使用Pandas工具包)"
   ]
  },
  {
   "cell_type": "code",
   "execution_count": 33,
   "metadata": {},
   "outputs": [
    {
     "name": "stdout",
     "output_type": "stream",
     "text": [
      "[['锘緿ateTime', 'NY - grid', 'NY - EV', 'NY - solar', 'Austin - grid', 'Austin - EV', 'Austin - solar', 'Boulder - grid', 'Boulder - EV', 'Boulder - solar\\n'], ['2019/3/1 00:00', '0.295', '0.003', '0.014', '0.76', '0', '', '0.62', '0.004', '\\n'], ['2019/3/1 00:15', '0.463', '0.003', '0.014', '0.751', '0', '', '0.77', '0.004', '\\n'], ['2019/3/1 00:30', '0.366', '0.003', '0.014', '0.36', '0', '', '0.789', '0.004', '\\n'], ['2019/3/1 00:45', '0.225', '0.003', '0.014', '0.343', '0', '', '0.763', '0.004', '\\n'], ['2019/3/1 01:00', '0.198', '0.003', '0.014', '0.329', '0', '', '0.799', '0.004', '\\n'], ['2019/3/1 01:15', '0.331', '0.003', '0.014', '0.33', '0', '', '0.826', '0.004', '\\n'], ['2019/3/1 01:30', '0.184', '0.003', '0.014', '0.338', '0', '', '0.702', '0.004', '\\n'], ['2019/3/1 01:45', '0.297', '0.003', '0.014', '0.348', '0', '', '0.704', '0.004', '\\n'], ['2019/3/1 02:00', '0.808', '0.004', '0.014', '0.348', '0', '', '0.902', '0.004', '\\n']]\n"
     ]
    }
   ],
   "source": [
    "import numpy as np\n",
    "\n",
    "data = []\n",
    "with open('data/Grid, solar, and EV data from three homes.csv', 'r') as file:\n",
    "  for line in file.readlines():\n",
    "    data.append(line.split(','))\n",
    "print(data[:10])\n",
    "\n",
    "# 分割表头\n",
    "header = data[0]\n",
    "# 分割数据\n",
    "content = np.asarray(data[1:])\n",
    "\n",
    "# 提取日期列\n",
    "date = content[:, 0]\n",
    "\n",
    "# NY城市\n",
    "NY_header = header[:4]\n",
    "\n",
    "# Austin城市\n",
    "Austin_header = header[0:1] + header[4:7]\n",
    "\n",
    "# Boulder城市\n",
    "Boulder_header = header[0:1] + header[7:]\n",
    "\n",
    "# NY\n",
    "NY_data = content[:,:4]\n",
    "with open('./result/1-NY.csv', 'w') as file:\n",
    "  file.write(','.join(NY_header)+'\\n')\n",
    "  for line in NY_data:\n",
    "    file.write(','.join(line)+'\\n')\n",
    "\n",
    "# Austin\n",
    "Austin_data = np.hstack((date.reshape(-1,1), content[:,4:7]))\n",
    "with open('./result/1-Austin.csv', 'w') as file:\n",
    "  file.write(','.join(Austin_header)+'\\n')\n",
    "  for line in Austin_data:\n",
    "    file.write(','.join(line)+'\\n')\n",
    "\n",
    "# Boulder\n",
    "Boulder_data = np.column_stack((date.reshape(-1,1), content[:,7:]))\n",
    "with open('./result/1-Boulder.csv', 'w') as file:\n",
    "  file.write(','.join(Boulder_header))\n",
    "  for line in Boulder_data:\n",
    "    file.write(','.join(line))"
   ]
  },
  {
   "cell_type": "markdown",
   "metadata": {},
   "source": [
    "请编程实现: 统计从2019年3月1日到2019年5月31日这三个月(3月、4月、5月)里，三个城市用电数据(电网、太阳能、电动汽车)的占比，并将结果保存为'.csv'文件。其中，第一行至第三行为NY的3、4、5月数据，第七行至第九行为Boulder的3、4、5月数据，第一列为电网数据，第二列为太阳能数据，第三列为电动汽车数据，数据间用逗号分割。"
   ]
  },
  {
   "cell_type": "code",
   "execution_count": 61,
   "metadata": {},
   "outputs": [],
   "source": [
    "import csv\n",
    "import numpy as np\n",
    "from datetime import datetime\n",
    "\n",
    "filename = ['1-NY.csv', '1-Austin.csv', '1-Boulder.csv']\n",
    "\n",
    "def power_stats(file):\n",
    "  # 读取文件\n",
    "  with open(file, 'r') as f:\n",
    "    reader = csv.reader(f)\n",
    "    # 跳过空行\n",
    "    data = [line for line in reader if len(line)>0]\n",
    "  # 去除表头\n",
    "  np_array = np.array(data[1:])\n",
    "  # 分割日期\n",
    "  dates_str = np_array[:, 0]\n",
    "  # 分割用电数据\n",
    "  elec_data = np_array[:, 1:]\n",
    "  # 数据预处理, 否则类型转换会出错\n",
    "  elec_data[elec_data == ''] = '0'\n",
    "  # 转换数据类型\n",
    "  elec_data = elec_data.astype(float)\n",
    "\n",
    "  # 转换日期对象\n",
    "  # strftime是转换为特定格式输出，\n",
    "  # 而strptime是将一个（时间）字符串解析为时间的一个类型对象。\n",
    "  dates = [datetime.strptime(date, '%Y/%m/%d %H:%M') for date in dates_str]\n",
    "  # 提取三个月份\n",
    "  index_month3 = [date.month==3 for date in dates]\n",
    "  index_month4 = [date.month==4 for date in dates]\n",
    "  index_month5 = [date.month==5 for date in dates]\n",
    "\n",
    "  elc3 = elec_data[index_month3]\n",
    "  elc4 = elec_data[index_month4]\n",
    "  elc5 = elec_data[index_month5]\n",
    "\n",
    "  # 三个城市用电数据占比\n",
    "  month3_ratio = np.sum(elc3, axis=0) / np.sum(elc3)\n",
    "  month4_ratio = np.sum(elc4, axis=0) / np.sum(elc4)\n",
    "  month5_ratio = np.sum(elc5, axis=0) / np.sum(elc5)\n",
    "\n",
    "  return month3_ratio, month4_ratio, month5_ratio\n",
    "\n",
    "out = []\n",
    "[out.extend(power_stats('./result/'+file)) for file in filename]\n",
    "# print(out)\n",
    "with open('./result/3.csv', 'w', encoding='utf-8', newline='') as f:\n",
    "  writer = csv.writer(f)\n",
    "  writer.writerows(out)"
   ]
  },
  {
   "cell_type": "code",
   "execution_count": 1,
   "metadata": {},
   "outputs": [
    {
     "data": {
      "text/plain": [
       "30557.600000000006"
      ]
     },
     "execution_count": 1,
     "metadata": {},
     "output_type": "execute_result"
    }
   ],
   "source": [
    "110557.6-80000"
   ]
  },
  {
   "cell_type": "code",
   "execution_count": null,
   "metadata": {},
   "outputs": [],
   "source": []
  }
 ],
 "metadata": {
  "kernelspec": {
   "display_name": "Python 3.7.12 ('base')",
   "language": "python",
   "name": "python3"
  },
  "language_info": {
   "codemirror_mode": {
    "name": "ipython",
    "version": 3
   },
   "file_extension": ".py",
   "mimetype": "text/x-python",
   "name": "python",
   "nbconvert_exporter": "python",
   "pygments_lexer": "ipython3",
   "version": "3.7.12"
  },
  "orig_nbformat": 4,
  "vscode": {
   "interpreter": {
    "hash": "fd16a1c2e981052eaae61151b9525ae9913f1f0d16bca6b7e7be9e0f29d739d2"
   }
  }
 },
 "nbformat": 4,
 "nbformat_minor": 2
}
